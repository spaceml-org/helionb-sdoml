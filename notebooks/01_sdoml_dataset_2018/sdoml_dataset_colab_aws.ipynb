{
  "cells": [
    {
      "attachments": {},
      "cell_type": "markdown",
      "id": "C1QdNWGH30ga",
      "metadata": {
        "id": "C1QdNWGH30ga"
      },
      "source": [
        "# SDO Machine Learning (SDO ML) Dataset\n",
        "\n",
        "In this notebook we demonstrate the process for interacting with a small sample of the SDO ML dataset."
      ]
    },
    {
      "attachments": {},
      "cell_type": "markdown",
      "id": "3Dsap7YC30ge",
      "metadata": {
        "id": "3Dsap7YC30ge"
      },
      "source": [
        "*Meng Jin, Mark Cheung, & Paul Wright*"
      ]
    },
    {
      "attachments": {},
      "cell_type": "markdown",
      "id": "vTNRN73m30ge",
      "metadata": {
        "id": "vTNRN73m30ge"
      },
      "source": [
        "---"
      ]
    },
    {
      "attachments": {},
      "cell_type": "markdown",
      "id": "QzPKmLuL30gf",
      "metadata": {
        "id": "QzPKmLuL30gf"
      },
      "source": [
        "## Introduction"
      ]
    },
    {
      "attachments": {},
      "cell_type": "markdown",
      "id": "CwkB_JVc30gf",
      "metadata": {
        "id": "CwkB_JVc30gf"
      },
      "source": [
        "### SDO Overview\n",
        "\n",
        "Since its launch in 2010, NASA’s Solar Dynamics Observatory (SDO; ([Pesnell et al. 2012](https://ui.adsabs.harvard.edu/abs/2012SoPh..275....3P/abstract)) has continuously monitored Sun's activity, delivering a wealth of valuable scientific data for heliophysics researchers with the use of three instruments:\n",
        "\n",
        "1. The Atmospheric Imaging Assembly (AIA; [Lemen et al. 2012](https://ui.adsabs.harvard.edu/abs/2012SoPh..275...17L/abstract)), which captures 4096 x 4096 resolution images (with 0.6 arcsecond pixel size) of the full Sun in two ultraviolet (centered at 1600, and 1700 Å), seven extreme ultraviolet (EUV; centered at 94, 131, 171, 193, 211, 304, and 335 Å), and one visible (centered at 4500 Å) wavelength band.\n",
        "\n",
        "\n",
        "2. The Helioseismic and Magnetic Imager (HMI; [Schou et al. 2012](https://ui.adsabs.harvard.edu/abs/2012SoPh..275..229S/abstract)) captures visible wavelength filtergrams of the full Sun at 4096 x 4096 resolution (a pixel size of 0.5 arcsecond), which are then processed into a number of data products, including photospheric Dopplergrams, line-of-sight magnetograms, and vector magnetograms ([Hoeksema et al. 2014](https://ui.adsabs.harvard.edu/abs/2014SoPh..289.3483H/abstract)).\n",
        "\n",
        "\n",
        "3. The EUV Variability Experiment (EVE; [Woods et al. 2012](https://ui.adsabs.harvard.edu/abs/2012SoPh..275..115W/abstract)) monitors the solar EUV spectral irradiance from 1 to 1050 Å. This is done by utilizing multiple EUV Grating Spectrographs (MEGS) that disperse EUV light from the full disk of the Sun and its corona onto a 1024 x 2048 charge coupled device (CCD)."
      ]
    },
    {
      "attachments": {},
      "cell_type": "markdown",
      "id": "_dfn2Phj30gg",
      "metadata": {
        "id": "_dfn2Phj30gg"
      },
      "source": [
        "<img src=\"spacecraft_detailed.png\" width=\"400\">"
      ]
    },
    {
      "attachments": {},
      "cell_type": "markdown",
      "id": "lrntSIJc30gh",
      "metadata": {
        "id": "lrntSIJc30gh"
      },
      "source": [
        "**Figure 1:** The Solar Dynamics Observatory (SDO) spacecraft, shown with the three main instruments (AIA, EVE, and HMI) highlighted. Image courtesy of NASA (https://sdo.gsfc.nasa.gov)."
      ]
    },
    {
      "attachments": {},
      "cell_type": "markdown",
      "id": "Dhwls7SV30gh",
      "metadata": {
        "id": "Dhwls7SV30gh"
      },
      "source": [
        "### The SDO ML Dataset\n",
        "The SDO ML Dataset (covering 2010 - 2018) was originally published as [Galvez et al (2019)](https://ui.adsabs.harvard.edu/abs/2019ApJS..242....7G/abstract), and is hosted on the Stanford Digital Repository in Numpy's compressed array format (.npz).\n",
        "\n",
        "In this notebook, we present an update to the work outlined in Galvez et al (2019), in which the full dataset has been converted to cloud friendly Zarr format. Specifically, SDO/AIA data has been updated to account for a change in calibration after 2019. In addtion to the change in calibration, this updated format includes:\n",
        "\n",
        "1. FITS header/keyword information (such as observation time, and exposure time).\n",
        "\n",
        "2. processes for continually updating the data until the present day."
      ]
    },
    {
      "attachments": {},
      "cell_type": "markdown",
      "id": "ueZYQ4zh30gi",
      "metadata": {
        "id": "ueZYQ4zh30gi"
      },
      "source": [
        "### Who is the SDO ML Dataset for?\n",
        "\n",
        "The sheer volume of structured scientific data recorded by SDO (over 18 PB, and counting) is ideal for a range machine learning tasks (from time-series, to computer vision), as well as more traditional approaches.\n",
        "\n",
        "While the level 1 data are easily accessible, pre-processing these data for scientific analysis often requires  specialized heliophysics (and instrument-specific) knowledge. This may act as an unnecessary hurdle for non-heliophysics machine learning researchers who may wish to experiment with datasets from the physical sciences, but are unaware of domain-specific nuances (e.g., that images must be spatially and temporally adjusted).\n",
        "\n",
        "This notebook demonstrates the process for interacting with a subset of the curated SDO (AIA, HMI, EVE) dataset, that is mission-ready for machine-learning applications. **Our aim is to supply this standardized dataset for heliophysicists who wish to use machine learning in their own research, as well as machine-learning researchers who wish to develop models specialized for the physical sciences.**"
      ]
    },
    {
      "attachments": {},
      "cell_type": "markdown",
      "id": "mPr9KxH530gj",
      "metadata": {
        "id": "mPr9KxH530gj"
      },
      "source": [
        "---"
      ]
    },
    {
      "attachments": {},
      "cell_type": "markdown",
      "id": "wN12n26Q30gj",
      "metadata": {
        "id": "wN12n26Q30gj"
      },
      "source": [
        "## Table of Contents"
      ]
    },
    {
      "attachments": {},
      "cell_type": "markdown",
      "id": "UQqgdYtr30gk",
      "metadata": {
        "id": "UQqgdYtr30gk"
      },
      "source": [
        "The notebook is set out as follows:\n",
        "\n",
        "1. Setting up the notebook\n",
        "2. Reading and loading the data <br>\n",
        "2a. Selecting images based on header information <br>\n",
        "    2b. Selecting a subset of the data based on index <br>\n",
        "    2c. Downsampling the data (resolution)<br>\n",
        "    2d. Downsampling the data (temporally)<br>\n",
        "3. Generating a SunPy map\n",
        "4. Animating AIA data\n",
        "5. Reading and loading HMI data\n",
        "6. Reading and loading EVE data"
      ]
    },
    {
      "attachments": {},
      "cell_type": "markdown",
      "id": "06e3u0qQ30gk",
      "metadata": {
        "id": "06e3u0qQ30gk"
      },
      "source": [
        "## 1. Setting up the notebook"
      ]
    },
    {
      "cell_type": "code",
      "execution_count": null,
      "id": "QWjqtRTCzsl9",
      "metadata": {
        "colab": {
          "base_uri": "https://localhost:8080/"
        },
        "id": "QWjqtRTCzsl9",
        "outputId": "02a25b60-d4dc-41b9-9f6e-997fd48166e5"
      },
      "outputs": [],
      "source": [
        "!pip install zarr sunpy[all] s3fs"
      ]
    },
    {
      "cell_type": "code",
      "execution_count": null,
      "id": "jaFbHF6Z30gq",
      "metadata": {
        "id": "jaFbHF6Z30gq"
      },
      "outputs": [],
      "source": [
        "%matplotlib inline\n",
        "\n",
        "import os\n",
        "from typing import Union\n",
        "import zarr\n",
        "\n",
        "import gcsfs\n",
        "import s3fs\n",
        "import sunpy.map\n",
        "\n",
        "import dask.array as da\n",
        "import numpy as np\n",
        "import matplotlib.pyplot as plt\n",
        "import matplotlib.cm as cm\n",
        "import pandas as pd\n",
        "import sunpy.visualization.colormaps as cm\n",
        "\n",
        "from astropy.time import Time\n",
        "from sunpy.visualization import axis_labels_from_ctype, wcsaxes_compat\n",
        "\n",
        "from matplotlib import animation\n",
        "from IPython.display import HTML"
      ]
    },
    {
      "cell_type": "code",
      "execution_count": null,
      "id": "XQGn2v6_30gr",
      "metadata": {
        "id": "XQGn2v6_30gr"
      },
      "outputs": [],
      "source": [
        "AWS_ZARR_ROOT = (\n",
        "    \"s3://gov-nasa-hdrl-data1/contrib/fdl-sdoml/fdl-sdoml-v2/sdomlv2_small.zarr/\"\n",
        ")\n",
        "\n",
        "\n",
        "def s3_connection(path_to_zarr: os.path) -> s3fs.S3Map:\n",
        "    \"\"\"\n",
        "    Instantiate connection to aws for a given path `path_to_zarr`\n",
        "    \"\"\"\n",
        "    return s3fs.S3Map(\n",
        "        root=path_to_zarr,\n",
        "        s3=s3fs.S3FileSystem(anon=True),\n",
        "        # anonymous access requires no credentials\n",
        "        check=False,\n",
        "    )\n",
        "\n",
        "\n",
        "def load_single_aws_zarr(\n",
        "    path_to_zarr: os.path,\n",
        "    cache_max_single_size: int = None,\n",
        ") -> Union[zarr.Array, zarr.Group]:\n",
        "    \"\"\"\n",
        "    load zarr from s3 using LRU cache\n",
        "    \"\"\"\n",
        "    return zarr.open(\n",
        "        zarr.LRUStoreCache(\n",
        "            store=s3_connection(path_to_zarr),\n",
        "            max_size=cache_max_single_size,\n",
        "        ),\n",
        "        mode=\"r\",\n",
        "    )"
      ]
    },
    {
      "attachments": {},
      "cell_type": "markdown",
      "id": "pHCnRpFi30gr",
      "metadata": {
        "id": "pHCnRpFi30gr"
      },
      "source": [
        "## 2. Reading and loading the AIA data\n"
      ]
    },
    {
      "attachments": {},
      "cell_type": "markdown",
      "id": "u8yLRK4x30gr",
      "metadata": {
        "id": "u8yLRK4x30gr"
      },
      "source": [
        "The SDO ML dataset is stored in the Zarr format, a format for the storage of chunked, compressed, N-dimensional arrays with Numpy dtype. For an in-depth overview, see https://zarr.readthedocs.io/en/stable/tutorial.html."
      ]
    },
    {
      "cell_type": "code",
      "execution_count": null,
      "id": "IaWjptjK30gr",
      "metadata": {
        "id": "IaWjptjK30gr"
      },
      "outputs": [],
      "source": [
        "# first, we create a group with the store data located on GCP.\n",
        "root = load_single_aws_zarr(\n",
        "    path_to_zarr=AWS_ZARR_ROOT,\n",
        ")"
      ]
    },
    {
      "cell_type": "code",
      "execution_count": null,
      "id": "L5sUBFP-30gs",
      "metadata": {
        "colab": {
          "base_uri": "https://localhost:8080/"
        },
        "id": "L5sUBFP-30gs",
        "outputId": "88f08c95-c7c3-4698-e110-08b10eac6deb"
      },
      "outputs": [],
      "source": [
        "# Using `root.tree()`, we are able to display the hierarchy (of `loc`).\n",
        "print(root.tree())"
      ]
    },
    {
      "attachments": {},
      "cell_type": "markdown",
      "id": "4rkpT-1q30gs",
      "metadata": {
        "id": "4rkpT-1q30gs"
      },
      "source": [
        "As shown in the tree, the heirachy consists of groups, each shown with their respective shape, and data type. In this example, we will primarily look at the 171 Å channel from 2010. This consists of 6135 512x512 images, stored as float32, and can be accessed as follows:"
      ]
    },
    {
      "cell_type": "code",
      "execution_count": null,
      "id": "AEKhkUv330gt",
      "metadata": {
        "id": "AEKhkUv330gt"
      },
      "outputs": [],
      "source": [
        "data = root[\"2010\"][\"171A\"]"
      ]
    },
    {
      "attachments": {},
      "cell_type": "markdown",
      "id": "CP-3yVdt30gt",
      "metadata": {
        "id": "CP-3yVdt30gt"
      },
      "source": [
        "We could have alternatively accessed the 2010 data as:\n",
        "\n",
        "```\n",
        "loc = 'fdl-sdoml-v2/sdomlv2_small.zarr/2010'\n",
        "```\n",
        "\n",
        "which becomes increasingly useful in the full dataset (where the heirachy contains years 2010 - present)."
      ]
    },
    {
      "attachments": {},
      "cell_type": "markdown",
      "id": "GOq4PfFF30gt",
      "metadata": {
        "id": "GOq4PfFF30gt"
      },
      "source": [
        "**Loading with Dask**\n",
        "\n",
        "We can then load this data into an array using dask."
      ]
    },
    {
      "cell_type": "code",
      "execution_count": null,
      "id": "uw-tZXju30gt",
      "metadata": {
        "colab": {
          "base_uri": "https://localhost:8080/",
          "height": 185
        },
        "id": "uw-tZXju30gt",
        "outputId": "a69bf900-4b17-4ed4-c906-d14d9b0f1cd1"
      },
      "outputs": [],
      "source": [
        "all_image = da.from_array(data)\n",
        "all_image"
      ]
    },
    {
      "attachments": {},
      "cell_type": "markdown",
      "id": "39fny1di30gt",
      "metadata": {
        "id": "39fny1di30gt"
      },
      "source": [
        "As shown above, the data has the shape (6135, 512, 512), and is split into 52 chunks of (120, 512, 512), each of 125.83 MB; this is further visualised on the right. The data is now in a form to be manipulated like a Numpy array.\n",
        "\n",
        "We can load and display one image now:"
      ]
    },
    {
      "cell_type": "code",
      "execution_count": null,
      "id": "67co7JRT30gu",
      "metadata": {
        "colab": {
          "base_uri": "https://localhost:8080/",
          "height": 847
        },
        "id": "67co7JRT30gu",
        "outputId": "ba85136a-6989-4650-ba99-1b1b014f17a6"
      },
      "outputs": [],
      "source": [
        "image=all_image[6000,:,:]\n",
        "plt.figure(figsize=(10,10))\n",
        "colormap = plt.get_cmap('sdoaia171')\n",
        "plt.imshow(image,origin='lower',vmin=10,vmax=1000,cmap=colormap)"
      ]
    },
    {
      "attachments": {},
      "cell_type": "markdown",
      "id": "nfMrsRiQ30gu",
      "metadata": {
        "id": "nfMrsRiQ30gu"
      },
      "source": [
        "Depending on the use-case, we may wish to extract a subset of this data in various ways. In the following sections we step through a number of potential operations that we may wish to make with the data."
      ]
    },
    {
      "attachments": {},
      "cell_type": "markdown",
      "id": "9NCHr5-930gu",
      "metadata": {
        "id": "9NCHr5-930gu"
      },
      "source": [
        "### 2a. Selecting images based on header information"
      ]
    },
    {
      "attachments": {},
      "cell_type": "markdown",
      "id": "gLRnFQv930gu",
      "metadata": {
        "id": "gLRnFQv930gu"
      },
      "source": [
        "The new data includes all fits header information with the same keywords. To find out the AIA keyword definition, one can refer to the following online document:\n",
        "http://jsoc.stanford.edu/~jsoc/keywords/AIA/AIA02840_K_AIA-SDO_FITS_Keyword_Document.pdf\n",
        "\n",
        "And one can list all the AIA keywords included:"
      ]
    },
    {
      "cell_type": "code",
      "execution_count": null,
      "id": "Mi9WkhZr30gu",
      "metadata": {
        "colab": {
          "base_uri": "https://localhost:8080/"
        },
        "id": "Mi9WkhZr30gu",
        "outputId": "17399449-8e62-44f6-abfe-7ec621c7ea15"
      },
      "outputs": [],
      "source": [
        "sorted(data.attrs)"
      ]
    },
    {
      "attachments": {},
      "cell_type": "markdown",
      "id": "pCxxPVNz30gu",
      "metadata": {
        "id": "pCxxPVNz30gu"
      },
      "source": [
        "We can extract the exposure (and observation) time from the data attributes (the header information), and downsample our data based upon that information."
      ]
    },
    {
      "cell_type": "code",
      "execution_count": null,
      "id": "4bgxwZZv30gu",
      "metadata": {
        "id": "4bgxwZZv30gu"
      },
      "outputs": [],
      "source": [
        "exptime = np.array(data.attrs[\"EXPTIME\"])\n",
        "t_obs = np.array(data.attrs[\"T_OBS\"])"
      ]
    },
    {
      "cell_type": "code",
      "execution_count": null,
      "id": "UK7mewfd30gv",
      "metadata": {
        "colab": {
          "base_uri": "https://localhost:8080/",
          "height": 462
        },
        "id": "UK7mewfd30gv",
        "outputId": "8029ebe0-88e9-4649-c7c4-7fc81b11d69c"
      },
      "outputs": [],
      "source": [
        "plt.plot(exptime)"
      ]
    },
    {
      "cell_type": "code",
      "execution_count": null,
      "id": "GCgkSO8j30gv",
      "metadata": {
        "id": "GCgkSO8j30gv"
      },
      "outputs": [],
      "source": [
        "# select indices where the exposure time is less than 2 seconds\n",
        "index = np.where(exptime < 2.0)\n",
        "selected_images = da.from_array(data)[index[0], :, :]"
      ]
    },
    {
      "cell_type": "code",
      "execution_count": null,
      "id": "1f5JmUaN30gv",
      "metadata": {
        "colab": {
          "base_uri": "https://localhost:8080/",
          "height": 187
        },
        "id": "1f5JmUaN30gv",
        "outputId": "99f63997-abd5-41fb-8994-4e3a64783ffb"
      },
      "outputs": [],
      "source": [
        "selected_images"
      ]
    },
    {
      "attachments": {},
      "cell_type": "markdown",
      "id": "p8nxNvye30gv",
      "metadata": {
        "id": "p8nxNvye30gv"
      },
      "source": [
        "### 2b. Selecting images based on indices"
      ]
    },
    {
      "attachments": {},
      "cell_type": "markdown",
      "id": "Xf5x4ocU30gv",
      "metadata": {
        "id": "Xf5x4ocU30gv"
      },
      "source": [
        "While the data is not currently ordered by observation time, we can simple index the array to extract a number of observations"
      ]
    },
    {
      "cell_type": "code",
      "execution_count": null,
      "id": "aG9u9fol30gv",
      "metadata": {
        "colab": {
          "base_uri": "https://localhost:8080/"
        },
        "id": "aG9u9fol30gv",
        "outputId": "3333e3b7-17a1-43b4-b777-af9a6effaa84"
      },
      "outputs": [],
      "source": [
        "# select a subset of the data based on index\n",
        "selected_images = da.from_array(data)[100:200, :, :]\n",
        "selected_header = {keys: values[100:200] for keys, values in data.attrs.items()}\n",
        "\n",
        "# and even compute the mean of the selected images\n",
        "print(f\"mean of selected images: {da.mean(selected_images).compute():.2f}\")"
      ]
    },
    {
      "cell_type": "code",
      "execution_count": null,
      "id": "6VePACQK30gw",
      "metadata": {
        "colab": {
          "base_uri": "https://localhost:8080/",
          "height": 221
        },
        "id": "6VePACQK30gw",
        "outputId": "d8b79203-9cb8-41fa-b2e1-3e4144621ff0"
      },
      "outputs": [],
      "source": [
        "selected_images"
      ]
    },
    {
      "attachments": {},
      "cell_type": "markdown",
      "id": "_dSPjfYe30gw",
      "metadata": {
        "id": "_dSPjfYe30gw"
      },
      "source": [
        "### 2c. Downsampling the data (resolution)"
      ]
    },
    {
      "attachments": {},
      "cell_type": "markdown",
      "id": "LlYoMytG30gw",
      "metadata": {
        "id": "LlYoMytG30gw"
      },
      "source": [
        "Downsample the 512x512 images to 256x256"
      ]
    },
    {
      "cell_type": "code",
      "execution_count": null,
      "id": "9JUtmwTn30gw",
      "metadata": {
        "colab": {
          "base_uri": "https://localhost:8080/"
        },
        "id": "9JUtmwTn30gw",
        "outputId": "40b4c618-6839-44ee-81fa-d1a2478f331c"
      },
      "outputs": [],
      "source": [
        "# downsample the data to 256 by sampling every other pixel\n",
        "sub_index = np.arange(0, 512, 2)\n",
        "\n",
        "sub_image = da.from_array(data)[0:600, sub_index, :]\n",
        "sub_image = sub_image[:, :, sub_index]\n",
        "# is this becuase dask doesn't support nd fancy indexing?\n",
        "\n",
        "print(f\"mean of selected images: {da.mean(sub_image).compute():.2f}\")"
      ]
    },
    {
      "cell_type": "code",
      "execution_count": null,
      "id": "32hRZOKH30gw",
      "metadata": {
        "colab": {
          "base_uri": "https://localhost:8080/",
          "height": 198
        },
        "id": "32hRZOKH30gw",
        "outputId": "4783001a-3477-4432-db84-15e7ed6c7805"
      },
      "outputs": [],
      "source": [
        "sub_image"
      ]
    },
    {
      "attachments": {},
      "cell_type": "markdown",
      "id": "6oLPymD_30gw",
      "metadata": {
        "id": "6oLPymD_30gw"
      },
      "source": [
        "### 2d. Downsampling the data (temporally)"
      ]
    },
    {
      "attachments": {},
      "cell_type": "markdown",
      "id": "Rt7HPIPV30gx",
      "metadata": {
        "id": "Rt7HPIPV30gx"
      },
      "source": [
        "We can use pandas to downstample the data within a time-range. Here, we choose 1 day of observations at 12 minute frequency"
      ]
    },
    {
      "cell_type": "code",
      "execution_count": null,
      "id": "KrNjtNOx30gx",
      "metadata": {
        "id": "KrNjtNOx30gx"
      },
      "outputs": [],
      "source": [
        "df_time = pd.DataFrame(t_obs, index=np.arange(np.shape(t_obs)[0]), columns=[\"Time\"])\n",
        "df_time[\"Time\"] = pd.to_datetime(df_time[\"Time\"])\n",
        "\n",
        "# select times at a frequency of 12 minutes\n",
        "selected_times = pd.date_range(\n",
        "    start=\"2010-08-28 00:00:00\", end=\"2010-08-28 23:59:59\", freq=\"12T\", tz=\"UTC\"\n",
        ")"
      ]
    },
    {
      "cell_type": "code",
      "execution_count": null,
      "id": "szM-eUrk30gx",
      "metadata": {
        "colab": {
          "base_uri": "https://localhost:8080/",
          "height": 222
        },
        "id": "szM-eUrk30gx",
        "outputId": "c2776fe0-d1d4-42d9-fa94-1598e08e8fcf"
      },
      "outputs": [],
      "source": [
        "selected_index = []\n",
        "for i in selected_times:\n",
        "    selected_index.append(np.argmin(abs(df_time[\"Time\"] - i)))\n",
        "# may be a more efficient way of doing this\n",
        "time_index = list(filter(lambda x: x > 0, selected_index))\n",
        "da.from_array(data)[time_index, :, :]"
      ]
    },
    {
      "attachments": {},
      "cell_type": "markdown",
      "id": "I-DT3Hrj30gx",
      "metadata": {
        "id": "I-DT3Hrj30gx"
      },
      "source": [
        "## 3. Generating a SunPy Map"
      ]
    },
    {
      "attachments": {},
      "cell_type": "markdown",
      "id": "qmh6Io_730gx",
      "metadata": {
        "id": "qmh6Io_730gx"
      },
      "source": [
        "SunPy is an open-source Python library for Solar Physics data analysis and visualization.\n",
        "\n",
        "In this section we will demonstrate how SunPy’s [Map](https://docs.sunpy.org/en/stable/api/sunpy.map.Map.html#sunpy.map.Map) with the Zarr-formatted data. We demonstrate this for a single index."
      ]
    },
    {
      "cell_type": "code",
      "execution_count": null,
      "id": "CLSbUjXC30gx",
      "metadata": {
        "id": "CLSbUjXC30gx"
      },
      "outputs": [],
      "source": [
        "# specify an image index\n",
        "img_index = time_index[-1]"
      ]
    },
    {
      "cell_type": "code",
      "execution_count": null,
      "id": "Gaj_LVsW30gx",
      "metadata": {
        "id": "Gaj_LVsW30gx"
      },
      "outputs": [],
      "source": [
        "# select the respective image, and header required for sunpy.map.Map()\n",
        "selected_image = da.from_array(data)[img_index, :, :]\n",
        "selected_headr = {keys: values[img_index] for keys, values in data.attrs.items()}"
      ]
    },
    {
      "cell_type": "code",
      "execution_count": null,
      "id": "X28jmtbg30gx",
      "metadata": {
        "id": "X28jmtbg30gx"
      },
      "outputs": [],
      "source": [
        "my_map = sunpy.map.Map((np.array(selected_image), selected_headr))"
      ]
    },
    {
      "cell_type": "code",
      "execution_count": null,
      "id": "YWpfJrQr30gy",
      "metadata": {
        "id": "YWpfJrQr30gy"
      },
      "outputs": [],
      "source": [
        "plt.figure(figsize=(7, 7))\n",
        "ax = plt.subplot(projection=my_map)\n",
        "my_map.plot()"
      ]
    },
    {
      "attachments": {},
      "cell_type": "markdown",
      "id": "Mtc9Z9kz30gy",
      "metadata": {
        "id": "Mtc9Z9kz30gy"
      },
      "source": [
        "As this is then a SunPy Map object, we can manipulate it as such."
      ]
    },
    {
      "cell_type": "code",
      "execution_count": null,
      "id": "3qw7pUhL30gy",
      "metadata": {
        "id": "3qw7pUhL30gy"
      },
      "outputs": [],
      "source": [
        "my_map"
      ]
    },
    {
      "attachments": {},
      "cell_type": "markdown",
      "id": "ygreYJqx30gy",
      "metadata": {
        "id": "ygreYJqx30gy"
      },
      "source": [
        "For more information about SunPy, and Map, see the SunPy project: https://readthedocs.org/projects/sunpy/"
      ]
    },
    {
      "attachments": {},
      "cell_type": "markdown",
      "id": "dvlyGtJH30gy",
      "metadata": {
        "id": "dvlyGtJH30gy"
      },
      "source": [
        "## 4. Generating an AIA animation"
      ]
    },
    {
      "cell_type": "code",
      "execution_count": null,
      "id": "BzDlpSNm30gy",
      "metadata": {
        "id": "BzDlpSNm30gy"
      },
      "outputs": [],
      "source": [
        "maps = []\n",
        "\n",
        "for i in time_index:\n",
        "    selected_image = da.from_array(data)[i, :, :]\n",
        "    selected_headr = {keys: values[i] for keys, values in data.attrs.items()}\n",
        "    maps.append(sunpy.map.Map((np.array(selected_image), selected_headr)))\n",
        "\n",
        "sq = sunpy.map.Map(maps, sequence=True, sortby=\"date\")"
      ]
    },
    {
      "cell_type": "code",
      "execution_count": null,
      "id": "Rfo9od9W30gz",
      "metadata": {
        "id": "Rfo9od9W30gz"
      },
      "outputs": [],
      "source": [
        "def animate_sequence(sequence, vmin = None, vmax = None):\n",
        "    \"\"\"\n",
        "    An animation plotting routine to animate each element in MapSequence\n",
        "\n",
        "    Parameters\n",
        "    ----------\n",
        "    sequence : `sunpy.map.mapsequence.MapSequence`\n",
        "        a set of sunpy maps to animate\n",
        "\n",
        "    Returns\n",
        "    -------\n",
        "    `matplotlib.animation.FuncAnimation`\n",
        "        A FuncAnimation instance.\n",
        "    \"\"\"\n",
        "\n",
        "    # fig, ax = plt.subplots(figsize=(7,7),\n",
        "    #                       subplot_kw=dict(projection=sequence[0].wcs)\n",
        "    #                      )\n",
        "\n",
        "    ax = wcsaxes_compat.gca_wcs(sequence[0].wcs)\n",
        "    fig = ax.get_figure()\n",
        "    fig.figsize = (7, 7)\n",
        "\n",
        "    plot_obj = sequence[0].plot(vmin = vmin, vmax = vmax)\n",
        "    ax.set_title(sequence[0].latex_name)\n",
        "\n",
        "    cbar = plt.colorbar()\n",
        "\n",
        "    def update_fig(i):\n",
        "        ax.set_title(sequence[i].latex_name)\n",
        "\n",
        "        # set the data to that of the image being plot\n",
        "        # Each image should be scaled as the first.\n",
        "        plot_obj.set_data(sequence[i].data)\n",
        "\n",
        "        # reset the WCS to that of the image being plot\n",
        "        plot_obj.axes.reset_wcs(sequence[i].wcs)\n",
        "\n",
        "        wcsaxes_compat.default_wcs_grid(ax)\n",
        "        ax.set_xlabel(\n",
        "            axis_labels_from_ctype(\n",
        "                sequence[i].coordinate_system[0], sequence[i].spatial_units[0]\n",
        "            )\n",
        "        )\n",
        "        ax.set_ylabel(\n",
        "            axis_labels_from_ctype(\n",
        "                sequence[i].coordinate_system[1], sequence[i].spatial_units[1]\n",
        "            )\n",
        "        )\n",
        "\n",
        "        # basic test:\n",
        "        # expect the wcs of the plot_obj to follow the sequence\n",
        "        # print(sequence[i].wcs == plot_obj.axes.wcs, sequence[0].wcs == sequence[i].wcs)\n",
        "        return (plot_obj,)\n",
        "\n",
        "    anim = animation.FuncAnimation(\n",
        "        fig, update_fig, init_func=None, frames=len(sequence), interval=60, repeat=True\n",
        "    )\n",
        "    plt.close(fig)\n",
        "\n",
        "    return anim"
      ]
    },
    {
      "cell_type": "code",
      "execution_count": null,
      "id": "dKTP__Uh30gz",
      "metadata": {
        "id": "dKTP__Uh30gz"
      },
      "outputs": [],
      "source": [
        "anim = animate_sequence(sq)\n",
        "HTML(anim.to_jshtml())"
      ]
    },
    {
      "attachments": {},
      "cell_type": "markdown",
      "id": "DV2bujqc30gz",
      "metadata": {
        "id": "DV2bujqc30gz"
      },
      "source": [
        "## 5. Reading and loading HMI data"
      ]
    },
    {
      "attachments": {},
      "cell_type": "markdown",
      "id": "-e7JJPQT30gz",
      "metadata": {
        "id": "-e7JJPQT30gz"
      },
      "source": [
        "Now, we demonstrste how to read the HMI data within the SDOML dataset. In general, the HMI data structure is very similar to the AIA data. Instead of 9 AIA channels, for each time step, HMI has 3 channels that represent the 3 component of the vector magnetic field (i.e., Bx, By, and Bz). Using the same method described in section 2, we can load the HMI data in 2010:"
      ]
    },
    {
      "cell_type": "code",
      "execution_count": null,
      "id": "Os-PH8IY30gz",
      "metadata": {
        "id": "Os-PH8IY30gz"
      },
      "outputs": [],
      "source": [
        "loc_hmi = \"fdl-sdoml-v2/sdomlv2_hmi.zarr/2010\"\n",
        "store = gcsfs.GCSMap(loc_hmi, gcs=gcs, check=False)\n",
        "root = zarr.group(store)\n",
        "print(root.tree())"
      ]
    },
    {
      "attachments": {},
      "cell_type": "markdown",
      "id": "lO_D6eA830gz",
      "metadata": {
        "id": "lO_D6eA830gz"
      },
      "source": [
        "Same as AIA data, the new HMI data also includes all fits header information with the same keywords. To find out the HMI keyword definition, one can refer to the following online document:\n",
        "http://jsoc.stanford.edu/doc/keywords/JSOC_Keywords_for_metadata.pdf\n",
        "\n",
        "And one can list all the HMI keywords included:"
      ]
    },
    {
      "cell_type": "code",
      "execution_count": null,
      "id": "Ojs8qyJ_30gz",
      "metadata": {
        "id": "Ojs8qyJ_30gz"
      },
      "outputs": [],
      "source": [
        "data = root[\"Bz\"]\n",
        "sorted(data.attrs)"
      ]
    },
    {
      "attachments": {},
      "cell_type": "markdown",
      "id": "54ezje7u30g0",
      "metadata": {
        "id": "54ezje7u30g0"
      },
      "source": [
        "Note that the HMI keywords are slightly different comparing with AIA keywords. For example, there is no exposure time ('EXPTIME') in the HMI metadata. Also, the 'T_OBS' format is a bit different:"
      ]
    },
    {
      "cell_type": "code",
      "execution_count": null,
      "id": "mv0LbDVD30g0",
      "metadata": {
        "id": "mv0LbDVD30g0"
      },
      "outputs": [],
      "source": [
        "t_obs = np.array(data.attrs[\"T_OBS\"])\n",
        "t_obs"
      ]
    },
    {
      "attachments": {},
      "cell_type": "markdown",
      "id": "s6CiVmSI30g0",
      "metadata": {
        "id": "s6CiVmSI30g0"
      },
      "source": [
        "To keep it consistent with the AIA metadata, one can simply convert the time format:"
      ]
    },
    {
      "cell_type": "code",
      "execution_count": null,
      "id": "k83WyMlq30g0",
      "metadata": {
        "id": "k83WyMlq30g0"
      },
      "outputs": [],
      "source": [
        "t_obs_new = []\n",
        "for string in t_obs:\n",
        "    new_string = string.replace('_TAI', 'Z')\n",
        "    new_string = new_string.replace('_','T')\n",
        "    new_string = new_string.replace('.','-')\n",
        "    new_string = new_string.replace('Z', '.00')\n",
        "    t_obs_new.append(new_string)\n",
        "t = Time(t_obs_new, format='isot', scale='tai')\n",
        "t_obs_new=t.value"
      ]
    },
    {
      "attachments": {},
      "cell_type": "markdown",
      "id": "w4laL4fr30g0",
      "metadata": {
        "id": "w4laL4fr30g0"
      },
      "source": [
        "Now we can load a magnetic map using Sunpy Map:"
      ]
    },
    {
      "cell_type": "code",
      "execution_count": null,
      "id": "-TwHnObs5JQG",
      "metadata": {
        "id": "-TwHnObs5JQG"
      },
      "outputs": [],
      "source": [
        "da.from_array(data)[0, :, :]"
      ]
    },
    {
      "cell_type": "code",
      "execution_count": null,
      "id": "5pYhCnCf5gsZ",
      "metadata": {
        "id": "5pYhCnCf5gsZ"
      },
      "outputs": [],
      "source": [
        "selected_headr"
      ]
    },
    {
      "cell_type": "code",
      "execution_count": null,
      "id": "HdWQLzRa30g0",
      "metadata": {
        "id": "HdWQLzRa30g0"
      },
      "outputs": [],
      "source": [
        "selected_image = da.from_array(data)[0, :, :]\n",
        "selected_headr = {keys: values[0] for keys, values in data.attrs.items()}\n",
        "selected_headr['WAVEUNIT'] = 'angstrom'\n",
        "my_map = sunpy.map.Map((np.array(selected_image), selected_headr))\n",
        "my_map"
      ]
    },
    {
      "attachments": {},
      "cell_type": "markdown",
      "id": "zwbmz9QV30g0",
      "metadata": {
        "id": "zwbmz9QV30g0"
      },
      "source": [
        "We can load a movie of HMI Bz component in the same time range as shown for AIA in the previous section:"
      ]
    },
    {
      "cell_type": "code",
      "execution_count": null,
      "id": "pOENhFnD30g0",
      "metadata": {
        "id": "pOENhFnD30g0"
      },
      "outputs": [],
      "source": [
        "df_time = pd.DataFrame(t_obs_new, index=np.arange(np.shape(t_obs_new)[0]), columns=[\"Time\"])\n",
        "df_time[\"Time\"] = pd.to_datetime(df_time[\"Time\"])\n",
        "\n",
        "# select times at a frequency of 12 minutes\n",
        "selected_times = pd.date_range(\n",
        "    start=\"2010-08-28 00:00:00\", end=\"2010-08-28 23:59:59\", freq=\"12T\")\n",
        "\n",
        "selected_index = []\n",
        "for i in selected_times:\n",
        "    selected_index.append(np.argmin(abs(df_time[\"Time\"] - i)))\n",
        "\n",
        "#mark the missing timestamps in the data\n",
        "missing_index=np.where(abs(df_time['Time'][selected_index]-selected_times)>pd.Timedelta('3m'))[0].tolist()\n",
        "for i in missing_index:\n",
        "    selected_index[i]=-1\n",
        "\n",
        "# may be a more efficient way of doing this\n",
        "time_index = list(filter(lambda x: x > 0, selected_index))\n",
        "da.from_array(data)[time_index, :, :]"
      ]
    },
    {
      "cell_type": "code",
      "execution_count": null,
      "id": "WbQwF3BE30g1",
      "metadata": {
        "id": "WbQwF3BE30g1"
      },
      "outputs": [],
      "source": [
        "maps = []\n",
        "\n",
        "for i in time_index:\n",
        "    selected_image = da.from_array(data)[i, :, :]\n",
        "    selected_headr = {keys: values[i] for keys, values in data.attrs.items()}\n",
        "    selected_headr['WAVEUNIT'] = 'angstrom'\n",
        "    maps.append(sunpy.map.Map((np.array(selected_image), selected_headr)))\n",
        "\n",
        "sq = sunpy.map.Map(maps, sequence=True, sortby=\"date\")"
      ]
    },
    {
      "cell_type": "code",
      "execution_count": null,
      "id": "WO2RwJ6v30g1",
      "metadata": {
        "id": "WO2RwJ6v30g1",
        "scrolled": true
      },
      "outputs": [],
      "source": [
        "# The plot range can be specified by vmin and vmax\n",
        "anim = animate_sequence(sq, vmin=-20, vmax=20)\n",
        "HTML(anim.to_jshtml())"
      ]
    },
    {
      "attachments": {},
      "cell_type": "markdown",
      "id": "8sdL0W7q30g1",
      "metadata": {
        "id": "8sdL0W7q30g1"
      },
      "source": [
        "## 6. Reading and loading EVE data"
      ]
    },
    {
      "attachments": {},
      "cell_type": "markdown",
      "id": "0iL1hhfL30g1",
      "metadata": {
        "id": "0iL1hhfL30g1"
      },
      "source": [
        "The EVE data is timeseries data in 39 wavelengths from 2010 May 1 to 2014 May 26. The temporal resolution is 1 minute. In this section, we demonstrate how to read and load EVE data."
      ]
    },
    {
      "cell_type": "code",
      "execution_count": null,
      "id": "DVxBAlBN30g1",
      "metadata": {
        "id": "DVxBAlBN30g1"
      },
      "outputs": [],
      "source": [
        "loc_eve = \"fdl-sdoml-v2/sdomlv2_eve.zarr\"\n",
        "store = gcsfs.GCSMap(loc_eve, gcs=gcs, check=False)\n",
        "root = zarr.group(store)\n",
        "print(root.tree())"
      ]
    },
    {
      "attachments": {},
      "cell_type": "markdown",
      "id": "hfzyKr4S30g1",
      "metadata": {
        "id": "hfzyKr4S30g1"
      },
      "source": [
        "As shown in the data structure tree, the ion line names can be identified. For some ions, there are multiple emission lines and the spectral line names end with '_1', '_2' to distinguish them. The details (e.g., ion, wavelength, emission temperature) are included in the metadata, which can be checked similar as AIA and HMI data:"
      ]
    },
    {
      "cell_type": "code",
      "execution_count": null,
      "id": "xPuHTq0I30g1",
      "metadata": {
        "id": "xPuHTq0I30g1"
      },
      "outputs": [],
      "source": [
        "data = root[\"MEGS-A\"][\"Fe XX\"]\n",
        "sorted(data.attrs)"
      ]
    },
    {
      "cell_type": "code",
      "execution_count": null,
      "id": "wmvhmxpS30g1",
      "metadata": {
        "id": "wmvhmxpS30g1"
      },
      "outputs": [],
      "source": [
        "data.attrs['ion'],data.attrs['wavelength'], data.attrs['logT']"
      ]
    },
    {
      "attachments": {},
      "cell_type": "markdown",
      "id": "_nOklhER30g2",
      "metadata": {
        "id": "_nOklhER30g2"
      },
      "source": [
        "In addition, the 'Time' variable contains all timestamps of the data:"
      ]
    },
    {
      "cell_type": "code",
      "execution_count": null,
      "id": "Y-UxiMwZ30g2",
      "metadata": {
        "id": "Y-UxiMwZ30g2"
      },
      "outputs": [],
      "source": [
        "time = root['MEGS-A']['Time']\n",
        "time[0:10]"
      ]
    },
    {
      "attachments": {},
      "cell_type": "markdown",
      "id": "kwmVnHVI30g2",
      "metadata": {
        "id": "kwmVnHVI30g2"
      },
      "source": [
        "We can plot the spectral line timeseries data:"
      ]
    },
    {
      "cell_type": "code",
      "execution_count": null,
      "id": "u8sdGoA030g2",
      "metadata": {
        "id": "u8sdGoA030g2"
      },
      "outputs": [],
      "source": [
        "df = pd.Series(data,index=pd.to_datetime(time))\n",
        "ax = df.plot(ylim=(0,2.e-4),figsize=(20,10),fontsize=20)\n",
        "ax.set_title(str(data.attrs['ion'])+' '+str(data.attrs['wavelength'])+' LogT = '+str(data.attrs['logT']),fontsize=20)\n",
        "ax.set_xlabel(\"Time\",fontsize=20)\n",
        "ax.set_ylabel(\"Intensity [W/m^2]\",fontsize=20)"
      ]
    },
    {
      "attachments": {},
      "cell_type": "markdown",
      "id": "HBSb6FFH30g2",
      "metadata": {
        "id": "HBSb6FFH30g2"
      },
      "source": [
        "----"
      ]
    },
    {
      "attachments": {},
      "cell_type": "markdown",
      "id": "fMk-BmkT30g2",
      "metadata": {
        "id": "fMk-BmkT30g2"
      },
      "source": [
        "This project was conducted during the 2018 NASA Frontier Development Lab (FDL) program, a public/private partnership between NASA and SETI and industry partners including NVIDIA Corporation, Lockheed Martin, and IBM. The authors thank IBM (especially Naeem Altaf) for generously providing computing resources on the IBM Cloud."
      ]
    }
  ],
  "metadata": {
    "colab": {
      "provenance": []
    },
    "kernelspec": {
      "display_name": "Python 3",
      "language": "python",
      "name": "python3"
    },
    "language_info": {
      "codemirror_mode": {
        "name": "ipython",
        "version": 3
      },
      "file_extension": ".py",
      "mimetype": "text/x-python",
      "name": "python",
      "nbconvert_exporter": "python",
      "pygments_lexer": "ipython3",
      "version": "3.8.8"
    }
  },
  "nbformat": 4,
  "nbformat_minor": 5
}
