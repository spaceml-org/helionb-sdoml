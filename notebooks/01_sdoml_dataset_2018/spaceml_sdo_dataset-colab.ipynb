{
 "cells": [
  {
   "cell_type": "markdown",
   "id": "c7815760",
   "metadata": {
    "id": "signed-iraqi"
   },
   "source": [
    "# SDO Machine Learning (ML) Dataset\n",
    "\n",
    "In this notebook we demonstrate the process for interacting with a small sample of the SDO ML dataset."
   ]
  },
  {
   "cell_type": "markdown",
   "id": "a1a139a0",
   "metadata": {
    "id": "aware-wells"
   },
   "source": [
    "*Meng Jin, Mark Cheung, & Paul Wright*"
   ]
  },
  {
   "cell_type": "markdown",
   "id": "f3b0d4c0",
   "metadata": {
    "id": "satellite-works"
   },
   "source": [
    "---"
   ]
  },
  {
   "cell_type": "markdown",
   "id": "508d991e",
   "metadata": {
    "id": "arctic-pharmacology"
   },
   "source": [
    "## Introduction"
   ]
  },
  {
   "cell_type": "markdown",
   "id": "a90c86d8",
   "metadata": {
    "id": "square-paragraph"
   },
   "source": [
    "### SDO Overview\n",
    "\n",
    "Since its launch in 2010, NASA’s Solar Dynamics Observatory (SDO; Pesnell et al. 2012) has continuously monitored Sun's activity, delivering a wealth of valuable scientific data for heliophysics researchers with the use of three instruments:\n",
    "\n",
    "1. The Atmospheric Imaging Assembly (AIA; Lemen et al. 2012), which captures 4096 x 4096 resolution images (with 0.6 arcsecond pixel size) of the full Sun in two ultraviolet (centered at 1600, and 1700 Å), seven extreme ultraviolet (EUV; centered at 94, 131, 171, 193, 211, 304, and 335 Å), and one visible (centered at 4500 Å) wavelength band.\n",
    "\n",
    "2. The Helioseismic and Magnetic Imager (HMI; Schou et al. 2012) captures visible wavelength filtergrams of the full Sun at 4096 x 4096 resolution (a pixel size of 0.5 arcsecond), which are then processed into a number of data products, including photospheric Dopplergrams, line-of-sight magnetograms, and vector magnetograms (Hoeksema et al. 2014).\n",
    "\n",
    "3. The EUV Variability Experiment (EVE; Woods et al. 2012) monitors the solar EUV spectral irradiance from 1 to 1050 Å. This is done by utilizing multiple EUV Grating Spectrographs (MEGS) that disperse EUV light from the full disk of the Sun and its corona onto a 1024 x 2048 charge coupled device (CCD)."
   ]
  },
  {
   "cell_type": "markdown",
   "id": "7046e299",
   "metadata": {},
   "source": [
    "### The SDO ML Dataset\n",
    "The SDO ML Dataset (covering 2010 - 2018) was originally published as Galvez et al (2019), and is hosted on the Stanford Digital Repository in Numpy's compressed array format (.npz). \n",
    "\n",
    "In this notebook, we present an update to the work outlined in [Galvez et al (2019)](https://ui.adsabs.harvard.edu/abs/2019ApJS..242....7G/abstract). Specifically, we will concentrate on the SDO/AIA data, as this has been updated to account for a change in calibration after 20??. In addtion to the change in calibration, this updated format includes\n",
    "\n",
    "1. FITS header/keyword information (such as observation time, and exposure time).\n",
    "2. processes for continually updating the data until the present day."
   ]
  },
  {
   "cell_type": "markdown",
   "id": "4cd967ec",
   "metadata": {
    "id": "engaging-backup"
   },
   "source": [
    "### Who is the SDO ML Dataset for?\n",
    "\n",
    "The sheer volume of structured scientific data recorded by SDO (over 18 PB, and counting) is ideal for a range machine learning tasks (from time-series, to computer vision), as well as more traditional approaches.\n",
    "\n",
    "While the level 1 data are easily accessible, pre-processing these data for scientific analysis often requires  specialized heliophysics (and instrument-specific) knowledge. This may act as an unnecessary hurdle for non-heliophysics machine learning researchers who may wish to experiment with datasets from the physical sciences, but are unaware of domain-specific nuances (e.g., that images must be spatially and temporally adjusted).\n",
    "\n",
    "This notebook demonstrates the process for interacting with a subset of the curated SDO (AIA) dataset, that is mission-ready for machine-learning applications. **Our aim is to supply this standardized dataset for heliophysicists who wish to use machine learning in their own research, as well as machine-learning researchers who wish to develop models specialized for the physical sciences.**"
   ]
  },
  {
   "cell_type": "markdown",
   "id": "e0eaa659",
   "metadata": {
    "id": "danish-lender"
   },
   "source": [
    "---"
   ]
  },
  {
   "cell_type": "markdown",
   "id": "c0c9a2ab",
   "metadata": {
    "id": "cathedral-island"
   },
   "source": [
    "## Table of Contents"
   ]
  },
  {
   "cell_type": "markdown",
   "id": "6a950678",
   "metadata": {
    "id": "charged-reader"
   },
   "source": [
    "The notebook is set out as follows:\n",
    "\n",
    "1. Setting up the notebook\n",
    "2. Reading and loading the data <br>\n",
    "2a. Selecting images based on header information <br>\n",
    "    2b. Selecting a subset of the data based on index <br>\n",
    "    2c. Downsampling the data <br>\n",
    "    2d. Downsampling the data <br>\n",
    "3. Generating a SunPy map\n",
    "4. Animating AIA data"
   ]
  },
  {
   "cell_type": "markdown",
   "id": "358d8f0a",
   "metadata": {
    "id": "legislative-motor"
   },
   "source": [
    "## 1. Setting up the notebook"
   ]
  },
  {
   "cell_type": "code",
   "execution_count": 3,
   "id": "bc47896d",
   "metadata": {
    "colab": {
     "base_uri": "https://localhost:8080/"
    },
    "id": "0DhGmyXrxPSl",
    "outputId": "b6b9fd9c-8c30-457c-b451-fa74f12faf1b"
   },
   "outputs": [
    {
     "name": "stdout",
     "output_type": "stream",
     "text": [
      "Requirement already satisfied: zarr in /home/paul/anaconda3/envs/deepem/lib/python3.8/site-packages (2.8.1)\n",
      "Requirement already satisfied: fasteners in /home/paul/anaconda3/envs/deepem/lib/python3.8/site-packages (from zarr) (0.16)\n",
      "Requirement already satisfied: asciitree in /home/paul/anaconda3/envs/deepem/lib/python3.8/site-packages (from zarr) (0.3.3)\n",
      "Requirement already satisfied: numpy>=1.7 in /home/paul/anaconda3/envs/deepem/lib/python3.8/site-packages (from zarr) (1.19.2)\n",
      "Requirement already satisfied: numcodecs>=0.6.4 in /home/paul/anaconda3/envs/deepem/lib/python3.8/site-packages (from zarr) (0.7.3)\n",
      "Requirement already satisfied: six in /home/paul/anaconda3/envs/deepem/lib/python3.8/site-packages (from fasteners->zarr) (1.15.0)\n",
      "Requirement already satisfied: sunpy[all] in /home/paul/anaconda3/envs/deepem/lib/python3.8/site-packages (2.1.4)\n",
      "Requirement already satisfied: numpy>=1.16.0 in /home/paul/anaconda3/envs/deepem/lib/python3.8/site-packages (from sunpy[all]) (1.19.2)\n",
      "Requirement already satisfied: parfive[ftp]>=1.1.0 in /home/paul/anaconda3/envs/deepem/lib/python3.8/site-packages (from sunpy[all]) (1.3.0)\n",
      "Requirement already satisfied: astropy>=4.0.3 in /home/paul/anaconda3/envs/deepem/lib/python3.8/site-packages (from sunpy[all]) (4.2.1)\n",
      "Requirement already satisfied: sqlalchemy in /home/paul/anaconda3/envs/deepem/lib/python3.8/site-packages (from sunpy[all]) (1.4.13)\n",
      "Requirement already satisfied: dask[array] in /home/paul/anaconda3/envs/deepem/lib/python3.8/site-packages (from sunpy[all]) (2021.4.1)\n",
      "Requirement already satisfied: pandas>=0.24.0 in /home/paul/anaconda3/envs/deepem/lib/python3.8/site-packages (from sunpy[all]) (1.2.4)\n",
      "Requirement already satisfied: zeep in /home/paul/anaconda3/envs/deepem/lib/python3.8/site-packages (from sunpy[all]) (4.0.0)\n",
      "Requirement already satisfied: scipy>=1.2.0 in /home/paul/anaconda3/envs/deepem/lib/python3.8/site-packages (from sunpy[all]) (1.6.3)\n",
      "Requirement already satisfied: beautifulsoup4 in /home/paul/anaconda3/envs/deepem/lib/python3.8/site-packages (from sunpy[all]) (4.9.3)\n",
      "Requirement already satisfied: python-dateutil in /home/paul/anaconda3/envs/deepem/lib/python3.8/site-packages (from sunpy[all]) (2.8.1)\n",
      "Requirement already satisfied: h5netcdf>=0.8.1 in /home/paul/anaconda3/envs/deepem/lib/python3.8/site-packages (from sunpy[all]) (0.11.0)\n",
      "Requirement already satisfied: scikit-image in /home/paul/anaconda3/envs/deepem/lib/python3.8/site-packages (from sunpy[all]) (0.18.1)\n",
      "Requirement already satisfied: asdf in /home/paul/anaconda3/envs/deepem/lib/python3.8/site-packages (from sunpy[all]) (2.7.4)\n",
      "Requirement already satisfied: matplotlib>=2.2.2 in /home/paul/anaconda3/envs/deepem/lib/python3.8/site-packages (from sunpy[all]) (3.3.4)\n",
      "Requirement already satisfied: glymur!=0.9.0 in /home/paul/anaconda3/envs/deepem/lib/python3.8/site-packages (from sunpy[all]) (0.9.3)\n",
      "Requirement already satisfied: drms>=0.6.1 in /home/paul/anaconda3/envs/deepem/lib/python3.8/site-packages (from sunpy[all]) (0.6.1)\n",
      "Requirement already satisfied: tqdm in /home/paul/anaconda3/envs/deepem/lib/python3.8/site-packages (from sunpy[all]) (4.60.0)\n",
      "Requirement already satisfied: pyerfa in /home/paul/anaconda3/envs/deepem/lib/python3.8/site-packages (from astropy>=4.0.3->sunpy[all]) (1.7.3)\n",
      "Requirement already satisfied: lxml in /home/paul/anaconda3/envs/deepem/lib/python3.8/site-packages (from glymur!=0.9.0->sunpy[all]) (4.6.3)\n",
      "Requirement already satisfied: setuptools in /home/paul/anaconda3/envs/deepem/lib/python3.8/site-packages (from glymur!=0.9.0->sunpy[all]) (52.0.0.post20210125)\n",
      "Requirement already satisfied: h5py in /home/paul/anaconda3/envs/deepem/lib/python3.8/site-packages (from h5netcdf>=0.8.1->sunpy[all]) (3.2.1)\n",
      "Requirement already satisfied: pyparsing!=2.0.4,!=2.1.2,!=2.1.6,>=2.0.3 in /home/paul/anaconda3/envs/deepem/lib/python3.8/site-packages (from matplotlib>=2.2.2->sunpy[all]) (2.4.7)\n",
      "Requirement already satisfied: cycler>=0.10 in /home/paul/anaconda3/envs/deepem/lib/python3.8/site-packages (from matplotlib>=2.2.2->sunpy[all]) (0.10.0)\n",
      "Requirement already satisfied: kiwisolver>=1.0.1 in /home/paul/anaconda3/envs/deepem/lib/python3.8/site-packages (from matplotlib>=2.2.2->sunpy[all]) (1.3.1)\n",
      "Requirement already satisfied: pillow>=6.2.0 in /home/paul/anaconda3/envs/deepem/lib/python3.8/site-packages (from matplotlib>=2.2.2->sunpy[all]) (8.2.0)\n",
      "Requirement already satisfied: six in /home/paul/anaconda3/envs/deepem/lib/python3.8/site-packages (from cycler>=0.10->matplotlib>=2.2.2->sunpy[all]) (1.15.0)\n",
      "Requirement already satisfied: pytz>=2017.3 in /home/paul/anaconda3/envs/deepem/lib/python3.8/site-packages (from pandas>=0.24.0->sunpy[all]) (2021.1)\n",
      "Requirement already satisfied: aiohttp in /home/paul/anaconda3/envs/deepem/lib/python3.8/site-packages (from parfive[ftp]>=1.1.0->sunpy[all]) (3.7.4.post0)\n",
      "Requirement already satisfied: aioftp>=0.17.1 in /home/paul/anaconda3/envs/deepem/lib/python3.8/site-packages (from parfive[ftp]>=1.1.0->sunpy[all]) (0.18.1)\n",
      "Requirement already satisfied: yarl<2.0,>=1.0 in /home/paul/anaconda3/envs/deepem/lib/python3.8/site-packages (from aiohttp->parfive[ftp]>=1.1.0->sunpy[all]) (1.6.3)\n",
      "Requirement already satisfied: chardet<5.0,>=2.0 in /home/paul/anaconda3/envs/deepem/lib/python3.8/site-packages (from aiohttp->parfive[ftp]>=1.1.0->sunpy[all]) (4.0.0)\n",
      "Requirement already satisfied: multidict<7.0,>=4.5 in /home/paul/anaconda3/envs/deepem/lib/python3.8/site-packages (from aiohttp->parfive[ftp]>=1.1.0->sunpy[all]) (5.1.0)\n",
      "Requirement already satisfied: attrs>=17.3.0 in /home/paul/anaconda3/envs/deepem/lib/python3.8/site-packages (from aiohttp->parfive[ftp]>=1.1.0->sunpy[all]) (20.3.0)\n",
      "Requirement already satisfied: async-timeout<4.0,>=3.0 in /home/paul/anaconda3/envs/deepem/lib/python3.8/site-packages (from aiohttp->parfive[ftp]>=1.1.0->sunpy[all]) (3.0.1)\n",
      "Requirement already satisfied: typing-extensions>=3.6.5 in /home/paul/anaconda3/envs/deepem/lib/python3.8/site-packages (from aiohttp->parfive[ftp]>=1.1.0->sunpy[all]) (3.7.4.3)\n",
      "Requirement already satisfied: idna>=2.0 in /home/paul/anaconda3/envs/deepem/lib/python3.8/site-packages (from yarl<2.0,>=1.0->aiohttp->parfive[ftp]>=1.1.0->sunpy[all]) (2.10)\n",
      "Requirement already satisfied: pyyaml>=3.10 in /home/paul/anaconda3/envs/deepem/lib/python3.8/site-packages (from asdf->sunpy[all]) (5.4.1)\n",
      "Requirement already satisfied: semantic-version>=2.8 in /home/paul/anaconda3/envs/deepem/lib/python3.8/site-packages (from asdf->sunpy[all]) (2.8.5)\n",
      "Requirement already satisfied: jsonschema<4,>=3.0.2 in /home/paul/anaconda3/envs/deepem/lib/python3.8/site-packages (from asdf->sunpy[all]) (3.2.0)\n",
      "Requirement already satisfied: pyrsistent>=0.14.0 in /home/paul/anaconda3/envs/deepem/lib/python3.8/site-packages (from jsonschema<4,>=3.0.2->asdf->sunpy[all]) (0.17.3)\n",
      "Requirement already satisfied: soupsieve>1.2 in /home/paul/anaconda3/envs/deepem/lib/python3.8/site-packages (from beautifulsoup4->sunpy[all]) (2.2.1)\n",
      "Requirement already satisfied: toolz>=0.8.2 in /home/paul/anaconda3/envs/deepem/lib/python3.8/site-packages (from dask[array]->sunpy[all]) (0.11.1)\n",
      "Requirement already satisfied: cloudpickle>=1.1.1 in /home/paul/anaconda3/envs/deepem/lib/python3.8/site-packages (from dask[array]->sunpy[all]) (1.6.0)\n",
      "Requirement already satisfied: fsspec>=0.6.0 in /home/paul/anaconda3/envs/deepem/lib/python3.8/site-packages (from dask[array]->sunpy[all]) (2021.4.0)\n",
      "Requirement already satisfied: partd>=0.3.10 in /home/paul/anaconda3/envs/deepem/lib/python3.8/site-packages (from dask[array]->sunpy[all]) (1.2.0)\n",
      "Requirement already satisfied: locket in /home/paul/anaconda3/envs/deepem/lib/python3.8/site-packages (from partd>=0.3.10->dask[array]->sunpy[all]) (0.2.1)\n",
      "Requirement already satisfied: PyWavelets>=1.1.1 in /home/paul/anaconda3/envs/deepem/lib/python3.8/site-packages (from scikit-image->sunpy[all]) (1.1.1)\n",
      "Requirement already satisfied: tifffile>=2019.7.26 in /home/paul/anaconda3/envs/deepem/lib/python3.8/site-packages (from scikit-image->sunpy[all]) (2021.4.8)\n",
      "Requirement already satisfied: imageio>=2.3.0 in /home/paul/anaconda3/envs/deepem/lib/python3.8/site-packages (from scikit-image->sunpy[all]) (2.9.0)\n",
      "Requirement already satisfied: networkx>=2.0 in /home/paul/anaconda3/envs/deepem/lib/python3.8/site-packages (from scikit-image->sunpy[all]) (2.5.1)\n"
     ]
    },
    {
     "name": "stdout",
     "output_type": "stream",
     "text": [
      "Requirement already satisfied: decorator<5,>=4.3 in /home/paul/anaconda3/envs/deepem/lib/python3.8/site-packages (from networkx>=2.0->scikit-image->sunpy[all]) (4.4.2)\n",
      "Requirement already satisfied: greenlet!=0.4.17 in /home/paul/anaconda3/envs/deepem/lib/python3.8/site-packages (from sqlalchemy->sunpy[all]) (1.0.0)\n",
      "Requirement already satisfied: defusedxml>=0.4.1 in /home/paul/anaconda3/envs/deepem/lib/python3.8/site-packages (from zeep->sunpy[all]) (0.7.1)\n",
      "Requirement already satisfied: appdirs>=1.4.0 in /home/paul/anaconda3/envs/deepem/lib/python3.8/site-packages (from zeep->sunpy[all]) (1.4.4)\n",
      "Requirement already satisfied: cached-property>=1.3.0 in /home/paul/anaconda3/envs/deepem/lib/python3.8/site-packages (from zeep->sunpy[all]) (1.5.2)\n",
      "Requirement already satisfied: requests>=2.7.0 in /home/paul/anaconda3/envs/deepem/lib/python3.8/site-packages (from zeep->sunpy[all]) (2.25.1)\n",
      "Requirement already satisfied: requests-file>=1.5.1 in /home/paul/anaconda3/envs/deepem/lib/python3.8/site-packages (from zeep->sunpy[all]) (1.5.1)\n",
      "Requirement already satisfied: isodate>=0.5.4 in /home/paul/anaconda3/envs/deepem/lib/python3.8/site-packages (from zeep->sunpy[all]) (0.6.0)\n",
      "Requirement already satisfied: requests-toolbelt>=0.7.1 in /home/paul/anaconda3/envs/deepem/lib/python3.8/site-packages (from zeep->sunpy[all]) (0.9.1)\n",
      "Requirement already satisfied: urllib3<1.27,>=1.21.1 in /home/paul/anaconda3/envs/deepem/lib/python3.8/site-packages (from requests>=2.7.0->zeep->sunpy[all]) (1.26.4)\n",
      "Requirement already satisfied: certifi>=2017.4.17 in /home/paul/anaconda3/envs/deepem/lib/python3.8/site-packages (from requests>=2.7.0->zeep->sunpy[all]) (2020.12.5)\n",
      "Requirement already satisfied: gcsfs in /home/paul/anaconda3/envs/deepem/lib/python3.8/site-packages (2021.4.0)\n",
      "Requirement already satisfied: fsspec==2021.04.0 in /home/paul/anaconda3/envs/deepem/lib/python3.8/site-packages (from gcsfs) (2021.4.0)\n",
      "Requirement already satisfied: aiohttp in /home/paul/anaconda3/envs/deepem/lib/python3.8/site-packages (from gcsfs) (3.7.4.post0)\n",
      "Requirement already satisfied: google-auth-oauthlib in /home/paul/anaconda3/envs/deepem/lib/python3.8/site-packages (from gcsfs) (0.4.4)\n",
      "Requirement already satisfied: requests in /home/paul/anaconda3/envs/deepem/lib/python3.8/site-packages (from gcsfs) (2.25.1)\n",
      "Requirement already satisfied: decorator in /home/paul/anaconda3/envs/deepem/lib/python3.8/site-packages (from gcsfs) (4.4.2)\n",
      "Requirement already satisfied: google-auth>=1.2 in /home/paul/anaconda3/envs/deepem/lib/python3.8/site-packages (from gcsfs) (1.30.0)\n",
      "Requirement already satisfied: rsa<5,>=3.1.4 in /home/paul/anaconda3/envs/deepem/lib/python3.8/site-packages (from google-auth>=1.2->gcsfs) (4.7.2)\n",
      "Requirement already satisfied: six>=1.9.0 in /home/paul/anaconda3/envs/deepem/lib/python3.8/site-packages (from google-auth>=1.2->gcsfs) (1.15.0)\n",
      "Requirement already satisfied: setuptools>=40.3.0 in /home/paul/anaconda3/envs/deepem/lib/python3.8/site-packages (from google-auth>=1.2->gcsfs) (52.0.0.post20210125)\n",
      "Requirement already satisfied: cachetools<5.0,>=2.0.0 in /home/paul/anaconda3/envs/deepem/lib/python3.8/site-packages (from google-auth>=1.2->gcsfs) (4.2.2)\n",
      "Requirement already satisfied: pyasn1-modules>=0.2.1 in /home/paul/anaconda3/envs/deepem/lib/python3.8/site-packages (from google-auth>=1.2->gcsfs) (0.2.8)\n",
      "Requirement already satisfied: pyasn1<0.5.0,>=0.4.6 in /home/paul/anaconda3/envs/deepem/lib/python3.8/site-packages (from pyasn1-modules>=0.2.1->google-auth>=1.2->gcsfs) (0.4.8)\n",
      "Requirement already satisfied: attrs>=17.3.0 in /home/paul/anaconda3/envs/deepem/lib/python3.8/site-packages (from aiohttp->gcsfs) (20.3.0)\n",
      "Requirement already satisfied: async-timeout<4.0,>=3.0 in /home/paul/anaconda3/envs/deepem/lib/python3.8/site-packages (from aiohttp->gcsfs) (3.0.1)\n",
      "Requirement already satisfied: chardet<5.0,>=2.0 in /home/paul/anaconda3/envs/deepem/lib/python3.8/site-packages (from aiohttp->gcsfs) (4.0.0)\n",
      "Requirement already satisfied: yarl<2.0,>=1.0 in /home/paul/anaconda3/envs/deepem/lib/python3.8/site-packages (from aiohttp->gcsfs) (1.6.3)\n",
      "Requirement already satisfied: multidict<7.0,>=4.5 in /home/paul/anaconda3/envs/deepem/lib/python3.8/site-packages (from aiohttp->gcsfs) (5.1.0)\n",
      "Requirement already satisfied: typing-extensions>=3.6.5 in /home/paul/anaconda3/envs/deepem/lib/python3.8/site-packages (from aiohttp->gcsfs) (3.7.4.3)\n",
      "Requirement already satisfied: idna>=2.0 in /home/paul/anaconda3/envs/deepem/lib/python3.8/site-packages (from yarl<2.0,>=1.0->aiohttp->gcsfs) (2.10)\n",
      "Requirement already satisfied: requests-oauthlib>=0.7.0 in /home/paul/anaconda3/envs/deepem/lib/python3.8/site-packages (from google-auth-oauthlib->gcsfs) (1.3.0)\n",
      "Requirement already satisfied: oauthlib>=3.0.0 in /home/paul/anaconda3/envs/deepem/lib/python3.8/site-packages (from requests-oauthlib>=0.7.0->google-auth-oauthlib->gcsfs) (3.1.0)\n",
      "Requirement already satisfied: certifi>=2017.4.17 in /home/paul/anaconda3/envs/deepem/lib/python3.8/site-packages (from requests->gcsfs) (2020.12.5)\n",
      "Requirement already satisfied: urllib3<1.27,>=1.21.1 in /home/paul/anaconda3/envs/deepem/lib/python3.8/site-packages (from requests->gcsfs) (1.26.4)\n"
     ]
    }
   ],
   "source": [
    "!pip install zarr\n",
    "!pip install sunpy[all]\n",
    "!pip install gcsfs"
   ]
  },
  {
   "cell_type": "code",
   "execution_count": 4,
   "id": "9f7f7609",
   "metadata": {
    "id": "duplicate-football"
   },
   "outputs": [],
   "source": [
    "%matplotlib inline\n",
    "\n",
    "import gcsfs\n",
    "import zarr\n",
    "import dask.array as da\n",
    "import numpy as np\n",
    "import sunpy.map \n",
    "import matplotlib.pyplot as plt\n",
    "import pandas as pd\n",
    "\n",
    "from sunpy.visualization import axis_labels_from_ctype, wcsaxes_compat\n",
    "\n",
    "from matplotlib import animation\n",
    "from IPython.display import HTML"
   ]
  },
  {
   "cell_type": "code",
   "execution_count": 5,
   "id": "a5283efb",
   "metadata": {
    "id": "oGgO6Fuabvxp"
   },
   "outputs": [
    {
     "ename": "ModuleNotFoundError",
     "evalue": "No module named 'google.cloud'",
     "output_type": "error",
     "traceback": [
      "\u001b[0;31m---------------------------------------------------------------------------\u001b[0m",
      "\u001b[0;31mModuleNotFoundError\u001b[0m                       Traceback (most recent call last)",
      "\u001b[0;32m<ipython-input-5-5b84bceb7e6f>\u001b[0m in \u001b[0;36m<module>\u001b[0;34m\u001b[0m\n\u001b[0;32m----> 1\u001b[0;31m \u001b[0;32mfrom\u001b[0m \u001b[0mgoogle\u001b[0m\u001b[0;34m.\u001b[0m\u001b[0mcloud\u001b[0m \u001b[0;32mimport\u001b[0m \u001b[0mstorage\u001b[0m\u001b[0;34m\u001b[0m\u001b[0;34m\u001b[0m\u001b[0m\n\u001b[0m\u001b[1;32m      2\u001b[0m \u001b[0;32mfrom\u001b[0m \u001b[0mgoogle\u001b[0m\u001b[0;34m.\u001b[0m\u001b[0mcolab\u001b[0m \u001b[0;32mimport\u001b[0m \u001b[0mauth\u001b[0m\u001b[0;34m\u001b[0m\u001b[0;34m\u001b[0m\u001b[0m\n\u001b[1;32m      3\u001b[0m \u001b[0;34m\u001b[0m\u001b[0m\n\u001b[1;32m      4\u001b[0m \u001b[0mauth\u001b[0m\u001b[0;34m.\u001b[0m\u001b[0mauthenticate_user\u001b[0m\u001b[0;34m(\u001b[0m\u001b[0;34m)\u001b[0m\u001b[0;34m\u001b[0m\u001b[0;34m\u001b[0m\u001b[0m\n",
      "\u001b[0;31mModuleNotFoundError\u001b[0m: No module named 'google.cloud'"
     ]
    }
   ],
   "source": [
    "#not sure if this actually works\n",
    "from google.cloud import storage\n",
    "from google.colab import auth\n",
    "\n",
    "auth.authenticate_user()"
   ]
  },
  {
   "cell_type": "code",
   "execution_count": 6,
   "id": "5d920f42",
   "metadata": {
    "id": "colonial-horizon"
   },
   "outputs": [],
   "source": [
    "# this is currently fine for interacting with notebooks from within the project\n",
    "gcs = gcsfs.GCSFileSystem(access='read_only')\n",
    "loc = 'gs://fdl-sdoml-v2/sdomlv2_small.zarr'\n",
    "store = gcsfs.GCSMap(loc, gcs=gcs, check=False)"
   ]
  },
  {
   "cell_type": "markdown",
   "id": "2261f89b",
   "metadata": {
    "id": "lined-salmon"
   },
   "source": [
    "## 2. Reading and loading the data"
   ]
  },
  {
   "cell_type": "markdown",
   "id": "5f0337b6",
   "metadata": {
    "id": "random-material"
   },
   "source": [
    "The SDO ML dataset is stored in the Zarr format, a format for the storage of chunked, compressed, N-dimensional arrays with Numpy dtype. For an in-depth overview, see https://zarr.readthedocs.io/en/stable/tutorial.html."
   ]
  },
  {
   "cell_type": "code",
   "execution_count": 7,
   "id": "466ff274",
   "metadata": {
    "id": "pending-filename"
   },
   "outputs": [],
   "source": [
    "#first, we create a group with the store data located on GCP.\n",
    "root = zarr.group(store)"
   ]
  },
  {
   "cell_type": "markdown",
   "id": "c208126a",
   "metadata": {
    "id": "suffering-advertising"
   },
   "source": [
    "As shown in the tree, the heirachy consists of groups, each shown with their respective shape, and data type. In this example, we will primarily look at the 171 Å channel from 2010. This consists of 6135 512x512 images, stored as float32, and can be accessed as follows:"
   ]
  },
  {
   "cell_type": "code",
   "execution_count": 8,
   "id": "45ba9ae3",
   "metadata": {
    "id": "breathing-score"
   },
   "outputs": [],
   "source": [
    "data = root['2010']['171A']"
   ]
  },
  {
   "cell_type": "markdown",
   "id": "bc28317b",
   "metadata": {
    "id": "distributed-warrant"
   },
   "source": [
    "We could have alternatively accessed the 2010 data as follows \n",
    "\n",
    "```\n",
    "loc = 'fdl-sdoml-v2/sdomlv2_small.zarr/2010'\n",
    "```\n",
    "\n",
    "which becomes increasingly useful in the full dataset (where the heirachy contains years 2010 - present)."
   ]
  },
  {
   "cell_type": "markdown",
   "id": "96bc3910",
   "metadata": {
    "id": "27591e4d"
   },
   "source": [
    "**Loading with Dask**\n",
    "\n",
    "We can then load this data into an array using dask."
   ]
  },
  {
   "cell_type": "code",
   "execution_count": 9,
   "id": "84013a5c",
   "metadata": {
    "colab": {
     "base_uri": "https://localhost:8080/",
     "height": 185
    },
    "id": "sharp-wayne",
    "outputId": "047e0c58-4220-4c0a-baff-6d085f62c864"
   },
   "outputs": [
    {
     "data": {
      "text/html": [
       "<table>\n",
       "<tr>\n",
       "<td>\n",
       "<table>\n",
       "  <thead>\n",
       "    <tr><td> </td><th> Array </th><th> Chunk </th></tr>\n",
       "  </thead>\n",
       "  <tbody>\n",
       "    <tr><th> Bytes </th><td> 5.99 GiB </td> <td> 120.00 MiB </td></tr>\n",
       "    <tr><th> Shape </th><td> (6135, 512, 512) </td> <td> (120, 512, 512) </td></tr>\n",
       "    <tr><th> Count </th><td> 53 Tasks </td><td> 52 Chunks </td></tr>\n",
       "    <tr><th> Type </th><td> float32 </td><td> numpy.ndarray </td></tr>\n",
       "  </tbody>\n",
       "</table>\n",
       "</td>\n",
       "<td>\n",
       "<svg width=\"168\" height=\"158\" style=\"stroke:rgb(0,0,0);stroke-width:1\" >\n",
       "\n",
       "  <!-- Horizontal lines -->\n",
       "  <line x1=\"10\" y1=\"0\" x2=\"80\" y2=\"70\" style=\"stroke-width:2\" />\n",
       "  <line x1=\"10\" y1=\"37\" x2=\"80\" y2=\"108\" style=\"stroke-width:2\" />\n",
       "\n",
       "  <!-- Vertical lines -->\n",
       "  <line x1=\"10\" y1=\"0\" x2=\"10\" y2=\"37\" style=\"stroke-width:2\" />\n",
       "  <line x1=\"12\" y1=\"2\" x2=\"12\" y2=\"40\" />\n",
       "  <line x1=\"16\" y1=\"6\" x2=\"16\" y2=\"44\" />\n",
       "  <line x1=\"21\" y1=\"11\" x2=\"21\" y2=\"48\" />\n",
       "  <line x1=\"23\" y1=\"13\" x2=\"23\" y2=\"51\" />\n",
       "  <line x1=\"27\" y1=\"17\" x2=\"27\" y2=\"55\" />\n",
       "  <line x1=\"32\" y1=\"22\" x2=\"32\" y2=\"59\" />\n",
       "  <line x1=\"36\" y1=\"26\" x2=\"36\" y2=\"63\" />\n",
       "  <line x1=\"38\" y1=\"28\" x2=\"38\" y2=\"66\" />\n",
       "  <line x1=\"43\" y1=\"33\" x2=\"43\" y2=\"70\" />\n",
       "  <line x1=\"47\" y1=\"37\" x2=\"47\" y2=\"74\" />\n",
       "  <line x1=\"51\" y1=\"41\" x2=\"51\" y2=\"78\" />\n",
       "  <line x1=\"54\" y1=\"44\" x2=\"54\" y2=\"81\" />\n",
       "  <line x1=\"58\" y1=\"48\" x2=\"58\" y2=\"85\" />\n",
       "  <line x1=\"62\" y1=\"52\" x2=\"62\" y2=\"90\" />\n",
       "  <line x1=\"66\" y1=\"56\" x2=\"66\" y2=\"94\" />\n",
       "  <line x1=\"69\" y1=\"59\" x2=\"69\" y2=\"96\" />\n",
       "  <line x1=\"73\" y1=\"63\" x2=\"73\" y2=\"101\" />\n",
       "  <line x1=\"77\" y1=\"67\" x2=\"77\" y2=\"105\" />\n",
       "  <line x1=\"80\" y1=\"70\" x2=\"80\" y2=\"108\" style=\"stroke-width:2\" />\n",
       "\n",
       "  <!-- Colored Rectangle -->\n",
       "  <polygon points=\"10.0,0.0 80.58823529411765,70.58823529411765 80.58823529411765,108.1602978324001 10.0,37.57206253828245\" style=\"fill:#8B4903A0;stroke-width:0\"/>\n",
       "\n",
       "  <!-- Horizontal lines -->\n",
       "  <line x1=\"10\" y1=\"0\" x2=\"47\" y2=\"0\" style=\"stroke-width:2\" />\n",
       "  <line x1=\"12\" y1=\"2\" x2=\"50\" y2=\"2\" />\n",
       "  <line x1=\"16\" y1=\"6\" x2=\"54\" y2=\"6\" />\n",
       "  <line x1=\"21\" y1=\"11\" x2=\"58\" y2=\"11\" />\n",
       "  <line x1=\"23\" y1=\"13\" x2=\"61\" y2=\"13\" />\n",
       "  <line x1=\"27\" y1=\"17\" x2=\"65\" y2=\"17\" />\n",
       "  <line x1=\"32\" y1=\"22\" x2=\"69\" y2=\"22\" />\n",
       "  <line x1=\"36\" y1=\"26\" x2=\"73\" y2=\"26\" />\n",
       "  <line x1=\"38\" y1=\"28\" x2=\"76\" y2=\"28\" />\n",
       "  <line x1=\"43\" y1=\"33\" x2=\"80\" y2=\"33\" />\n",
       "  <line x1=\"47\" y1=\"37\" x2=\"84\" y2=\"37\" />\n",
       "  <line x1=\"51\" y1=\"41\" x2=\"88\" y2=\"41\" />\n",
       "  <line x1=\"54\" y1=\"44\" x2=\"91\" y2=\"44\" />\n",
       "  <line x1=\"58\" y1=\"48\" x2=\"95\" y2=\"48\" />\n",
       "  <line x1=\"62\" y1=\"52\" x2=\"100\" y2=\"52\" />\n",
       "  <line x1=\"66\" y1=\"56\" x2=\"104\" y2=\"56\" />\n",
       "  <line x1=\"69\" y1=\"59\" x2=\"106\" y2=\"59\" />\n",
       "  <line x1=\"73\" y1=\"63\" x2=\"111\" y2=\"63\" />\n",
       "  <line x1=\"77\" y1=\"67\" x2=\"115\" y2=\"67\" />\n",
       "  <line x1=\"80\" y1=\"70\" x2=\"118\" y2=\"70\" style=\"stroke-width:2\" />\n",
       "\n",
       "  <!-- Vertical lines -->\n",
       "  <line x1=\"10\" y1=\"0\" x2=\"80\" y2=\"70\" style=\"stroke-width:2\" />\n",
       "  <line x1=\"47\" y1=\"0\" x2=\"118\" y2=\"70\" style=\"stroke-width:2\" />\n",
       "\n",
       "  <!-- Colored Rectangle -->\n",
       "  <polygon points=\"10.0,0.0 47.57206253828245,0.0 118.1602978324001,70.58823529411765 80.58823529411765,70.58823529411765\" style=\"fill:#8B4903A0;stroke-width:0\"/>\n",
       "\n",
       "  <!-- Horizontal lines -->\n",
       "  <line x1=\"80\" y1=\"70\" x2=\"118\" y2=\"70\" style=\"stroke-width:2\" />\n",
       "  <line x1=\"80\" y1=\"108\" x2=\"118\" y2=\"108\" style=\"stroke-width:2\" />\n",
       "\n",
       "  <!-- Vertical lines -->\n",
       "  <line x1=\"80\" y1=\"70\" x2=\"80\" y2=\"108\" style=\"stroke-width:2\" />\n",
       "  <line x1=\"118\" y1=\"70\" x2=\"118\" y2=\"108\" style=\"stroke-width:2\" />\n",
       "\n",
       "  <!-- Colored Rectangle -->\n",
       "  <polygon points=\"80.58823529411765,70.58823529411765 118.1602978324001,70.58823529411765 118.1602978324001,108.1602978324001 80.58823529411765,108.1602978324001\" style=\"fill:#ECB172A0;stroke-width:0\"/>\n",
       "\n",
       "  <!-- Text -->\n",
       "  <text x=\"99.374267\" y=\"128.160298\" font-size=\"1.0rem\" font-weight=\"100\" text-anchor=\"middle\" >512</text>\n",
       "  <text x=\"138.160298\" y=\"89.374267\" font-size=\"1.0rem\" font-weight=\"100\" text-anchor=\"middle\" transform=\"rotate(-90,138.160298,89.374267)\">512</text>\n",
       "  <text x=\"35.294118\" y=\"92.866180\" font-size=\"1.0rem\" font-weight=\"100\" text-anchor=\"middle\" transform=\"rotate(45,35.294118,92.866180)\">6135</text>\n",
       "</svg>\n",
       "</td>\n",
       "</tr>\n",
       "</table>"
      ],
      "text/plain": [
       "dask.array<array, shape=(6135, 512, 512), dtype=float32, chunksize=(120, 512, 512), chunktype=numpy.ndarray>"
      ]
     },
     "execution_count": 9,
     "metadata": {},
     "output_type": "execute_result"
    }
   ],
   "source": [
    "da.from_array(data)"
   ]
  },
  {
   "cell_type": "markdown",
   "id": "aceeec99",
   "metadata": {
    "id": "necessary-momentum"
   },
   "source": [
    "As shown above, the data has the shape (6135, 512, 512), and is split into 52 chunks of (120, 512, 512), each of 125.83 MB; this is further visualised on the right. The data is now in a form to be manipulated like a Numpy array. \n",
    "\n",
    "\n",
    "Depending on the use-case, we may wish to extract a subset of this data in various ways. In the following sections we step through a number of potential operations that we may wish to make with the data."
   ]
  },
  {
   "cell_type": "markdown",
   "id": "786ac4e2",
   "metadata": {
    "id": "attempted-embassy"
   },
   "source": [
    "### 2a. Selecting images based on header information"
   ]
  },
  {
   "cell_type": "markdown",
   "id": "e1e83270",
   "metadata": {
    "id": "0055470e"
   },
   "source": [
    "We can extract the exposure (and observation) time from the data attributes (the header information), and downsample our data based upon that information."
   ]
  },
  {
   "cell_type": "code",
   "execution_count": 10,
   "id": "2819d0f1",
   "metadata": {
    "id": "polyphonic-principle"
   },
   "outputs": [],
   "source": [
    "exptime=np.array(data.attrs['EXPTIME'])\n",
    "t_obs=np.array(data.attrs['T_OBS'])"
   ]
  },
  {
   "cell_type": "code",
   "execution_count": 11,
   "id": "89f6f93c",
   "metadata": {
    "id": "353e7aea"
   },
   "outputs": [],
   "source": [
    "#TODO: Visualise exposure time"
   ]
  },
  {
   "cell_type": "code",
   "execution_count": 12,
   "id": "369a57f6",
   "metadata": {
    "id": "subjective-trout"
   },
   "outputs": [],
   "source": [
    "# select indices where the exposure time is less than 2 seconds\n",
    "index=np.where(exptime<2.0)\n",
    "selected_images=da.from_array(data)[index[0],:,:]"
   ]
  },
  {
   "cell_type": "code",
   "execution_count": 13,
   "id": "c1d108b7",
   "metadata": {
    "colab": {
     "base_uri": "https://localhost:8080/",
     "height": 187
    },
    "id": "restricted-petite",
    "outputId": "cc7fa20b-cf7f-40ce-e86d-d1bda05ddbb4"
   },
   "outputs": [
    {
     "data": {
      "text/html": [
       "<table>\n",
       "<tr>\n",
       "<td>\n",
       "<table>\n",
       "  <thead>\n",
       "    <tr><td> </td><th> Array </th><th> Chunk </th></tr>\n",
       "  </thead>\n",
       "  <tbody>\n",
       "    <tr><th> Bytes </th><td> 3.91 GiB </td> <td> 120.00 MiB </td></tr>\n",
       "    <tr><th> Shape </th><td> (4005, 512, 512) </td> <td> (120, 512, 512) </td></tr>\n",
       "    <tr><th> Count </th><td> 92 Tasks </td><td> 39 Chunks </td></tr>\n",
       "    <tr><th> Type </th><td> float32 </td><td> numpy.ndarray </td></tr>\n",
       "  </tbody>\n",
       "</table>\n",
       "</td>\n",
       "<td>\n",
       "<svg width=\"170\" height=\"160\" style=\"stroke:rgb(0,0,0);stroke-width:1\" >\n",
       "\n",
       "  <!-- Horizontal lines -->\n",
       "  <line x1=\"10\" y1=\"0\" x2=\"80\" y2=\"70\" style=\"stroke-width:2\" />\n",
       "  <line x1=\"10\" y1=\"39\" x2=\"80\" y2=\"110\" style=\"stroke-width:2\" />\n",
       "\n",
       "  <!-- Vertical lines -->\n",
       "  <line x1=\"10\" y1=\"0\" x2=\"10\" y2=\"39\" style=\"stroke-width:2\" />\n",
       "  <line x1=\"12\" y1=\"2\" x2=\"12\" y2=\"42\" />\n",
       "  <line x1=\"16\" y1=\"6\" x2=\"16\" y2=\"46\" />\n",
       "  <line x1=\"19\" y1=\"9\" x2=\"19\" y2=\"48\" />\n",
       "  <line x1=\"23\" y1=\"13\" x2=\"23\" y2=\"53\" />\n",
       "  <line x1=\"27\" y1=\"17\" x2=\"27\" y2=\"57\" />\n",
       "  <line x1=\"31\" y1=\"21\" x2=\"31\" y2=\"61\" />\n",
       "  <line x1=\"35\" y1=\"25\" x2=\"35\" y2=\"65\" />\n",
       "  <line x1=\"38\" y1=\"28\" x2=\"38\" y2=\"67\" />\n",
       "  <line x1=\"42\" y1=\"32\" x2=\"42\" y2=\"72\" />\n",
       "  <line x1=\"46\" y1=\"36\" x2=\"46\" y2=\"76\" />\n",
       "  <line x1=\"50\" y1=\"40\" x2=\"50\" y2=\"80\" />\n",
       "  <line x1=\"53\" y1=\"43\" x2=\"53\" y2=\"83\" />\n",
       "  <line x1=\"57\" y1=\"47\" x2=\"57\" y2=\"87\" />\n",
       "  <line x1=\"62\" y1=\"52\" x2=\"62\" y2=\"91\" />\n",
       "  <line x1=\"64\" y1=\"54\" x2=\"64\" y2=\"94\" />\n",
       "  <line x1=\"68\" y1=\"58\" x2=\"68\" y2=\"98\" />\n",
       "  <line x1=\"72\" y1=\"62\" x2=\"72\" y2=\"102\" />\n",
       "  <line x1=\"76\" y1=\"66\" x2=\"76\" y2=\"106\" />\n",
       "  <line x1=\"80\" y1=\"70\" x2=\"80\" y2=\"110\" style=\"stroke-width:2\" />\n",
       "\n",
       "  <!-- Colored Rectangle -->\n",
       "  <polygon points=\"10.0,0.0 80.58823529411765,70.58823529411765 80.58823529411765,110.49798264608177 10.0,39.90974735196412\" style=\"fill:#8B4903A0;stroke-width:0\"/>\n",
       "\n",
       "  <!-- Horizontal lines -->\n",
       "  <line x1=\"10\" y1=\"0\" x2=\"49\" y2=\"0\" style=\"stroke-width:2\" />\n",
       "  <line x1=\"12\" y1=\"2\" x2=\"52\" y2=\"2\" />\n",
       "  <line x1=\"16\" y1=\"6\" x2=\"56\" y2=\"6\" />\n",
       "  <line x1=\"19\" y1=\"9\" x2=\"58\" y2=\"9\" />\n",
       "  <line x1=\"23\" y1=\"13\" x2=\"63\" y2=\"13\" />\n",
       "  <line x1=\"27\" y1=\"17\" x2=\"67\" y2=\"17\" />\n",
       "  <line x1=\"31\" y1=\"21\" x2=\"71\" y2=\"21\" />\n",
       "  <line x1=\"35\" y1=\"25\" x2=\"75\" y2=\"25\" />\n",
       "  <line x1=\"38\" y1=\"28\" x2=\"77\" y2=\"28\" />\n",
       "  <line x1=\"42\" y1=\"32\" x2=\"82\" y2=\"32\" />\n",
       "  <line x1=\"46\" y1=\"36\" x2=\"86\" y2=\"36\" />\n",
       "  <line x1=\"50\" y1=\"40\" x2=\"90\" y2=\"40\" />\n",
       "  <line x1=\"53\" y1=\"43\" x2=\"93\" y2=\"43\" />\n",
       "  <line x1=\"57\" y1=\"47\" x2=\"97\" y2=\"47\" />\n",
       "  <line x1=\"62\" y1=\"52\" x2=\"101\" y2=\"52\" />\n",
       "  <line x1=\"64\" y1=\"54\" x2=\"104\" y2=\"54\" />\n",
       "  <line x1=\"68\" y1=\"58\" x2=\"108\" y2=\"58\" />\n",
       "  <line x1=\"72\" y1=\"62\" x2=\"112\" y2=\"62\" />\n",
       "  <line x1=\"76\" y1=\"66\" x2=\"116\" y2=\"66\" />\n",
       "  <line x1=\"80\" y1=\"70\" x2=\"120\" y2=\"70\" style=\"stroke-width:2\" />\n",
       "\n",
       "  <!-- Vertical lines -->\n",
       "  <line x1=\"10\" y1=\"0\" x2=\"80\" y2=\"70\" style=\"stroke-width:2\" />\n",
       "  <line x1=\"49\" y1=\"0\" x2=\"120\" y2=\"70\" style=\"stroke-width:2\" />\n",
       "\n",
       "  <!-- Colored Rectangle -->\n",
       "  <polygon points=\"10.0,0.0 49.90974735196412,0.0 120.49798264608177,70.58823529411765 80.58823529411765,70.58823529411765\" style=\"fill:#8B4903A0;stroke-width:0\"/>\n",
       "\n",
       "  <!-- Horizontal lines -->\n",
       "  <line x1=\"80\" y1=\"70\" x2=\"120\" y2=\"70\" style=\"stroke-width:2\" />\n",
       "  <line x1=\"80\" y1=\"110\" x2=\"120\" y2=\"110\" style=\"stroke-width:2\" />\n",
       "\n",
       "  <!-- Vertical lines -->\n",
       "  <line x1=\"80\" y1=\"70\" x2=\"80\" y2=\"110\" style=\"stroke-width:2\" />\n",
       "  <line x1=\"120\" y1=\"70\" x2=\"120\" y2=\"110\" style=\"stroke-width:2\" />\n",
       "\n",
       "  <!-- Colored Rectangle -->\n",
       "  <polygon points=\"80.58823529411765,70.58823529411765 120.49798264608177,70.58823529411765 120.49798264608177,110.49798264608177 80.58823529411765,110.49798264608177\" style=\"fill:#ECB172A0;stroke-width:0\"/>\n",
       "\n",
       "  <!-- Text -->\n",
       "  <text x=\"100.543109\" y=\"130.497983\" font-size=\"1.0rem\" font-weight=\"100\" text-anchor=\"middle\" >512</text>\n",
       "  <text x=\"140.497983\" y=\"90.543109\" font-size=\"1.0rem\" font-weight=\"100\" text-anchor=\"middle\" transform=\"rotate(-90,140.497983,90.543109)\">512</text>\n",
       "  <text x=\"35.294118\" y=\"95.203865\" font-size=\"1.0rem\" font-weight=\"100\" text-anchor=\"middle\" transform=\"rotate(45,35.294118,95.203865)\">4005</text>\n",
       "</svg>\n",
       "</td>\n",
       "</tr>\n",
       "</table>"
      ],
      "text/plain": [
       "dask.array<getitem, shape=(4005, 512, 512), dtype=float32, chunksize=(120, 512, 512), chunktype=numpy.ndarray>"
      ]
     },
     "execution_count": 13,
     "metadata": {},
     "output_type": "execute_result"
    }
   ],
   "source": [
    "selected_images"
   ]
  },
  {
   "cell_type": "markdown",
   "id": "92ed00db",
   "metadata": {
    "id": "composite-halloween"
   },
   "source": [
    "### 2b. Selecting images based on indices"
   ]
  },
  {
   "cell_type": "markdown",
   "id": "519b1177",
   "metadata": {
    "id": "c12de815"
   },
   "source": [
    "While the data is not currently ordered by observation time, we can simple index the array to extract a number of observations"
   ]
  },
  {
   "cell_type": "code",
   "execution_count": 14,
   "id": "0f1e990e",
   "metadata": {
    "colab": {
     "base_uri": "https://localhost:8080/"
    },
    "id": "unknown-fitness",
    "outputId": "48f22e18-e9d5-4fe6-9e2f-a0ff160079d2"
   },
   "outputs": [
    {
     "name": "stdout",
     "output_type": "stream",
     "text": [
      "mean of selected images: 107.05\n"
     ]
    }
   ],
   "source": [
    "# select a subset of the data based on index\n",
    "selected_images = da.from_array(data)[100:200,:,:]\n",
    "selected_header = {keys:values[100:200] for keys,values in data.attrs.items()}\n",
    "\n",
    "# and even compute the mean of the selected images\n",
    "print(f'mean of selected images: {da.mean(selected_images).compute():.2f}')"
   ]
  },
  {
   "cell_type": "code",
   "execution_count": 15,
   "id": "70316ab3",
   "metadata": {
    "colab": {
     "base_uri": "https://localhost:8080/",
     "height": 221
    },
    "id": "monthly-indonesia",
    "outputId": "3a9efc4f-3188-4fb1-c426-5ee699747941"
   },
   "outputs": [
    {
     "data": {
      "text/html": [
       "<table>\n",
       "<tr>\n",
       "<td>\n",
       "<table>\n",
       "  <thead>\n",
       "    <tr><td> </td><th> Array </th><th> Chunk </th></tr>\n",
       "  </thead>\n",
       "  <tbody>\n",
       "    <tr><th> Bytes </th><td> 100.00 MiB </td> <td> 80.00 MiB </td></tr>\n",
       "    <tr><th> Shape </th><td> (100, 512, 512) </td> <td> (80, 512, 512) </td></tr>\n",
       "    <tr><th> Count </th><td> 55 Tasks </td><td> 2 Chunks </td></tr>\n",
       "    <tr><th> Type </th><td> float32 </td><td> numpy.ndarray </td></tr>\n",
       "  </tbody>\n",
       "</table>\n",
       "</td>\n",
       "<td>\n",
       "<svg width=\"204\" height=\"194\" style=\"stroke:rgb(0,0,0);stroke-width:1\" >\n",
       "\n",
       "  <!-- Horizontal lines -->\n",
       "  <line x1=\"10\" y1=\"0\" x2=\"34\" y2=\"24\" style=\"stroke-width:2\" />\n",
       "  <line x1=\"10\" y1=\"120\" x2=\"34\" y2=\"144\" style=\"stroke-width:2\" />\n",
       "\n",
       "  <!-- Vertical lines -->\n",
       "  <line x1=\"10\" y1=\"0\" x2=\"10\" y2=\"120\" style=\"stroke-width:2\" />\n",
       "  <line x1=\"14\" y1=\"4\" x2=\"14\" y2=\"124\" />\n",
       "  <line x1=\"34\" y1=\"24\" x2=\"34\" y2=\"144\" style=\"stroke-width:2\" />\n",
       "\n",
       "  <!-- Colored Rectangle -->\n",
       "  <polygon points=\"10.0,0.0 34.65238470771245,24.65238470771245 34.65238470771245,144.65238470771246 10.0,120.0\" style=\"fill:#ECB172A0;stroke-width:0\"/>\n",
       "\n",
       "  <!-- Horizontal lines -->\n",
       "  <line x1=\"10\" y1=\"0\" x2=\"130\" y2=\"0\" style=\"stroke-width:2\" />\n",
       "  <line x1=\"14\" y1=\"4\" x2=\"134\" y2=\"4\" />\n",
       "  <line x1=\"34\" y1=\"24\" x2=\"154\" y2=\"24\" style=\"stroke-width:2\" />\n",
       "\n",
       "  <!-- Vertical lines -->\n",
       "  <line x1=\"10\" y1=\"0\" x2=\"34\" y2=\"24\" style=\"stroke-width:2\" />\n",
       "  <line x1=\"130\" y1=\"0\" x2=\"154\" y2=\"24\" style=\"stroke-width:2\" />\n",
       "\n",
       "  <!-- Colored Rectangle -->\n",
       "  <polygon points=\"10.0,0.0 130.0,0.0 154.65238470771246,24.65238470771245 34.65238470771245,24.65238470771245\" style=\"fill:#ECB172A0;stroke-width:0\"/>\n",
       "\n",
       "  <!-- Horizontal lines -->\n",
       "  <line x1=\"34\" y1=\"24\" x2=\"154\" y2=\"24\" style=\"stroke-width:2\" />\n",
       "  <line x1=\"34\" y1=\"144\" x2=\"154\" y2=\"144\" style=\"stroke-width:2\" />\n",
       "\n",
       "  <!-- Vertical lines -->\n",
       "  <line x1=\"34\" y1=\"24\" x2=\"34\" y2=\"144\" style=\"stroke-width:2\" />\n",
       "  <line x1=\"154\" y1=\"24\" x2=\"154\" y2=\"144\" style=\"stroke-width:2\" />\n",
       "\n",
       "  <!-- Colored Rectangle -->\n",
       "  <polygon points=\"34.65238470771245,24.65238470771245 154.65238470771246,24.65238470771245 154.65238470771246,144.65238470771246 34.65238470771245,144.65238470771246\" style=\"fill:#ECB172A0;stroke-width:0\"/>\n",
       "\n",
       "  <!-- Text -->\n",
       "  <text x=\"94.652385\" y=\"164.652385\" font-size=\"1.0rem\" font-weight=\"100\" text-anchor=\"middle\" >512</text>\n",
       "  <text x=\"174.652385\" y=\"84.652385\" font-size=\"1.0rem\" font-weight=\"100\" text-anchor=\"middle\" transform=\"rotate(-90,174.652385,84.652385)\">512</text>\n",
       "  <text x=\"12.326192\" y=\"152.326192\" font-size=\"1.0rem\" font-weight=\"100\" text-anchor=\"middle\" transform=\"rotate(45,12.326192,152.326192)\">100</text>\n",
       "</svg>\n",
       "</td>\n",
       "</tr>\n",
       "</table>"
      ],
      "text/plain": [
       "dask.array<getitem, shape=(100, 512, 512), dtype=float32, chunksize=(80, 512, 512), chunktype=numpy.ndarray>"
      ]
     },
     "execution_count": 15,
     "metadata": {},
     "output_type": "execute_result"
    }
   ],
   "source": [
    "selected_images"
   ]
  },
  {
   "cell_type": "markdown",
   "id": "ee939860",
   "metadata": {
    "id": "practical-excellence"
   },
   "source": [
    "### 2c. Downsampling the data (resolution)"
   ]
  },
  {
   "cell_type": "code",
   "execution_count": 16,
   "id": "159364a4",
   "metadata": {
    "colab": {
     "base_uri": "https://localhost:8080/"
    },
    "id": "median-stopping",
    "outputId": "1763b887-6a6e-4b50-bcd6-91a05262402a"
   },
   "outputs": [
    {
     "name": "stdout",
     "output_type": "stream",
     "text": [
      "mean of selected images: 113.65\n"
     ]
    }
   ],
   "source": [
    "# downsample the data to 256 by sampling every other pixel\n",
    "sub_index = np.arange(0,512,2)\n",
    "\n",
    "sub_image=da.from_array(data)[0:600,sub_index,:]\n",
    "sub_image=sub_image[:,:,sub_index]\n",
    "# is this becuase dask doesn't support nd fancy indexing?\n",
    "\n",
    "print(f'mean of selected images: {da.mean(sub_image).compute():.2f}')"
   ]
  },
  {
   "cell_type": "code",
   "execution_count": 17,
   "id": "7bc5c3dc",
   "metadata": {
    "colab": {
     "base_uri": "https://localhost:8080/",
     "height": 198
    },
    "id": "functional-grenada",
    "outputId": "79600b89-cf17-4890-ef53-728e88638b75"
   },
   "outputs": [
    {
     "data": {
      "text/html": [
       "<table>\n",
       "<tr>\n",
       "<td>\n",
       "<table>\n",
       "  <thead>\n",
       "    <tr><td> </td><th> Array </th><th> Chunk </th></tr>\n",
       "  </thead>\n",
       "  <tbody>\n",
       "    <tr><th> Bytes </th><td> 150.00 MiB </td> <td> 30.00 MiB </td></tr>\n",
       "    <tr><th> Shape </th><td> (600, 256, 256) </td> <td> (120, 256, 256) </td></tr>\n",
       "    <tr><th> Count </th><td> 68 Tasks </td><td> 5 Chunks </td></tr>\n",
       "    <tr><th> Type </th><td> float32 </td><td> numpy.ndarray </td></tr>\n",
       "  </tbody>\n",
       "</table>\n",
       "</td>\n",
       "<td>\n",
       "<svg width=\"181\" height=\"171\" style=\"stroke:rgb(0,0,0);stroke-width:1\" >\n",
       "\n",
       "  <!-- Horizontal lines -->\n",
       "  <line x1=\"10\" y1=\"0\" x2=\"80\" y2=\"70\" style=\"stroke-width:2\" />\n",
       "  <line x1=\"10\" y1=\"51\" x2=\"80\" y2=\"121\" style=\"stroke-width:2\" />\n",
       "\n",
       "  <!-- Vertical lines -->\n",
       "  <line x1=\"10\" y1=\"0\" x2=\"10\" y2=\"51\" style=\"stroke-width:2\" />\n",
       "  <line x1=\"24\" y1=\"14\" x2=\"24\" y2=\"65\" />\n",
       "  <line x1=\"38\" y1=\"28\" x2=\"38\" y2=\"79\" />\n",
       "  <line x1=\"52\" y1=\"42\" x2=\"52\" y2=\"93\" />\n",
       "  <line x1=\"66\" y1=\"56\" x2=\"66\" y2=\"107\" />\n",
       "  <line x1=\"80\" y1=\"70\" x2=\"80\" y2=\"121\" style=\"stroke-width:2\" />\n",
       "\n",
       "  <!-- Colored Rectangle -->\n",
       "  <polygon points=\"10.0,0.0 80.58823529411765,70.58823529411765 80.58823529411765,121.78823529411765 10.0,51.2\" style=\"fill:#ECB172A0;stroke-width:0\"/>\n",
       "\n",
       "  <!-- Horizontal lines -->\n",
       "  <line x1=\"10\" y1=\"0\" x2=\"61\" y2=\"0\" style=\"stroke-width:2\" />\n",
       "  <line x1=\"24\" y1=\"14\" x2=\"75\" y2=\"14\" />\n",
       "  <line x1=\"38\" y1=\"28\" x2=\"89\" y2=\"28\" />\n",
       "  <line x1=\"52\" y1=\"42\" x2=\"103\" y2=\"42\" />\n",
       "  <line x1=\"66\" y1=\"56\" x2=\"117\" y2=\"56\" />\n",
       "  <line x1=\"80\" y1=\"70\" x2=\"131\" y2=\"70\" style=\"stroke-width:2\" />\n",
       "\n",
       "  <!-- Vertical lines -->\n",
       "  <line x1=\"10\" y1=\"0\" x2=\"80\" y2=\"70\" style=\"stroke-width:2\" />\n",
       "  <line x1=\"61\" y1=\"0\" x2=\"131\" y2=\"70\" style=\"stroke-width:2\" />\n",
       "\n",
       "  <!-- Colored Rectangle -->\n",
       "  <polygon points=\"10.0,0.0 61.2,0.0 131.78823529411767,70.58823529411765 80.58823529411765,70.58823529411765\" style=\"fill:#ECB172A0;stroke-width:0\"/>\n",
       "\n",
       "  <!-- Horizontal lines -->\n",
       "  <line x1=\"80\" y1=\"70\" x2=\"131\" y2=\"70\" style=\"stroke-width:2\" />\n",
       "  <line x1=\"80\" y1=\"121\" x2=\"131\" y2=\"121\" style=\"stroke-width:2\" />\n",
       "\n",
       "  <!-- Vertical lines -->\n",
       "  <line x1=\"80\" y1=\"70\" x2=\"80\" y2=\"121\" style=\"stroke-width:2\" />\n",
       "  <line x1=\"131\" y1=\"70\" x2=\"131\" y2=\"121\" style=\"stroke-width:2\" />\n",
       "\n",
       "  <!-- Colored Rectangle -->\n",
       "  <polygon points=\"80.58823529411765,70.58823529411765 131.78823529411767,70.58823529411765 131.78823529411767,121.78823529411765 80.58823529411765,121.78823529411765\" style=\"fill:#ECB172A0;stroke-width:0\"/>\n",
       "\n",
       "  <!-- Text -->\n",
       "  <text x=\"106.188235\" y=\"141.788235\" font-size=\"1.0rem\" font-weight=\"100\" text-anchor=\"middle\" >256</text>\n",
       "  <text x=\"151.788235\" y=\"96.188235\" font-size=\"1.0rem\" font-weight=\"100\" text-anchor=\"middle\" transform=\"rotate(-90,151.788235,96.188235)\">256</text>\n",
       "  <text x=\"35.294118\" y=\"106.494118\" font-size=\"1.0rem\" font-weight=\"100\" text-anchor=\"middle\" transform=\"rotate(45,35.294118,106.494118)\">600</text>\n",
       "</svg>\n",
       "</td>\n",
       "</tr>\n",
       "</table>"
      ],
      "text/plain": [
       "dask.array<getitem, shape=(600, 256, 256), dtype=float32, chunksize=(120, 256, 256), chunktype=numpy.ndarray>"
      ]
     },
     "execution_count": 17,
     "metadata": {},
     "output_type": "execute_result"
    }
   ],
   "source": [
    "sub_image"
   ]
  },
  {
   "cell_type": "markdown",
   "id": "377e10a8",
   "metadata": {
    "id": "6cf355da"
   },
   "source": [
    "### 2d. Downsampling the data (temporally)"
   ]
  },
  {
   "cell_type": "code",
   "execution_count": null,
   "id": "eb38e92c",
   "metadata": {
    "id": "8d9b3334"
   },
   "outputs": [],
   "source": [
    "df_time=pd.DataFrame(t_obs,index=np.arange(np.shape(t_obs)[0]),columns=['Time'])\n",
    "df_time['Time'] = pd.to_datetime(df_time['Time'])\n",
    "\n",
    "# select times at a frequency of 12 minutes \n",
    "selected_times = pd.date_range(start='2010-08-28 00:00:00', end='2010-08-28 23:59:59', freq='12T',tz='UTC')"
   ]
  },
  {
   "cell_type": "code",
   "execution_count": null,
   "id": "a90f552a",
   "metadata": {
    "colab": {
     "base_uri": "https://localhost:8080/",
     "height": 222
    },
    "id": "316886ac",
    "outputId": "99b50f5f-9f38-411b-aa21-f08f89f58928"
   },
   "outputs": [],
   "source": [
    "selected_index = []\n",
    "for i in selected_times:\n",
    "    selected_index.append(np.argmin(abs(df_time['Time']-i)))\n",
    "# may be a more efficient way of doing this\n",
    "time_index = list(filter(lambda x : x > 0, selected_index))\n",
    "da.from_array(data)[time_index,:,:]"
   ]
  },
  {
   "cell_type": "markdown",
   "id": "d6090ede",
   "metadata": {
    "id": "breeding-template"
   },
   "source": [
    "## 3. Generating a SunPy Map"
   ]
  },
  {
   "cell_type": "markdown",
   "id": "0081e0fc",
   "metadata": {
    "id": "convinced-prisoner"
   },
   "source": [
    "SunPy is an open-source Python library for Solar Physics data analysis and visualization. \n",
    "\n",
    "In this section we will demonstrate how SunPy’s [Map](https://docs.sunpy.org/en/stable/api/sunpy.map.Map.html#sunpy.map.Map) with the Zarr-formatted data. We demonstrate this for a single index."
   ]
  },
  {
   "cell_type": "code",
   "execution_count": null,
   "id": "96a828ff",
   "metadata": {
    "id": "portuguese-robertson"
   },
   "outputs": [],
   "source": [
    "#specify an image index\n",
    "img_index = time_index[-1]"
   ]
  },
  {
   "cell_type": "code",
   "execution_count": null,
   "id": "cf968993",
   "metadata": {
    "id": "distinct-raising"
   },
   "outputs": [],
   "source": [
    "#select the respective image, and header required for sunpy.map.Map()\n",
    "selected_image = da.from_array(data)[img_index,:,:]\n",
    "selected_headr = {keys:values[img_index] for keys,values in data.attrs.items()}"
   ]
  },
  {
   "cell_type": "code",
   "execution_count": null,
   "id": "172f302e",
   "metadata": {
    "id": "electric-theorem"
   },
   "outputs": [],
   "source": [
    "my_map = sunpy.map.Map((np.array(selected_image), selected_headr))"
   ]
  },
  {
   "cell_type": "code",
   "execution_count": null,
   "id": "3021d0c7",
   "metadata": {
    "colab": {
     "base_uri": "https://localhost:8080/",
     "height": 480
    },
    "id": "acute-jungle",
    "outputId": "35317c6e-ec53-4151-8849-7ee2501d634a"
   },
   "outputs": [],
   "source": [
    "plt.figure(figsize=(7,7))\n",
    "ax = plt.subplot(projection=my_map)\n",
    "my_map.plot()"
   ]
  },
  {
   "cell_type": "markdown",
   "id": "530dde5a",
   "metadata": {
    "id": "otherwise-password"
   },
   "source": [
    "As this is then a SunPy Map object, we can manipulate it as such."
   ]
  },
  {
   "cell_type": "code",
   "execution_count": null,
   "id": "8939afba",
   "metadata": {
    "colab": {
     "base_uri": "https://localhost:8080/",
     "height": 481
    },
    "id": "polished-universe",
    "outputId": "d28aadbe-f582-4845-c34b-d580ac67f42f"
   },
   "outputs": [],
   "source": [
    "my_map"
   ]
  },
  {
   "cell_type": "markdown",
   "id": "8bb272b0",
   "metadata": {
    "id": "sixth-upper"
   },
   "source": [
    "For more information about SunPy, and Map,"
   ]
  },
  {
   "cell_type": "markdown",
   "id": "d6785a03",
   "metadata": {
    "id": "exterior-grammar"
   },
   "source": [
    "## 4. Generating an AIA animation"
   ]
  },
  {
   "cell_type": "code",
   "execution_count": null,
   "id": "faaffd31",
   "metadata": {
    "id": "fifty-aaron"
   },
   "outputs": [],
   "source": [
    "maps = []\n",
    "\n",
    "for i in time_index:\n",
    "    selected_image = da.from_array(data)[i,:,:]\n",
    "    selected_headr = {keys:values[i] for keys,values in data.attrs.items()}\n",
    "    maps.append(sunpy.map.Map((np.array(selected_image), selected_headr)))\n",
    "    \n",
    "sq = sunpy.map.Map(maps, sequence=True, sortby=\"date\")   "
   ]
  },
  {
   "cell_type": "code",
   "execution_count": null,
   "id": "788d9689",
   "metadata": {
    "id": "signed-declaration"
   },
   "outputs": [],
   "source": [
    "def animate_sequence(sequence):\n",
    "    \"\"\"\n",
    "    An animation plotting routine to animate each element in MapSequence\n",
    "    \n",
    "    Parameters\n",
    "    ----------\n",
    "    sequence : `sunpy.map.mapsequence.MapSequence`\n",
    "        a set of sunpy maps to animate\n",
    "        \n",
    "    Returns\n",
    "    -------\n",
    "    `matplotlib.animation.FuncAnimation`\n",
    "        A FuncAnimation instance.\n",
    "    \"\"\"\n",
    "\n",
    "    #fig, ax = plt.subplots(figsize=(7,7), \n",
    "    #                       subplot_kw=dict(projection=sequence[0].wcs)\n",
    "    #                      ) \n",
    "\n",
    "    ax = wcsaxes_compat.gca_wcs(sequence[0].wcs)\n",
    "    fig = ax.get_figure()\n",
    "    fig.figsize = (7,7)\n",
    "\n",
    "    plot_obj = sequence[0].plot()\n",
    "    ax.set_title(sequence[0].latex_name)\n",
    "    \n",
    "    cbar = plt.colorbar()\n",
    "\n",
    "    def update_fig(i):\n",
    "        ax.set_title(sequence[i].latex_name)\n",
    "    \n",
    "        # set the data to that of the image being plot\n",
    "        # Each image should be scaled as the first.\n",
    "        plot_obj.set_data(sequence[i].data)\n",
    "    \n",
    "        # reset the WCS to that of the image being plot\n",
    "        plot_obj.axes.reset_wcs(sequence[i].wcs)\n",
    "        \n",
    "        wcsaxes_compat.default_wcs_grid(ax)\n",
    "        ax.set_xlabel(axis_labels_from_ctype(sequence[i].coordinate_system[0],\n",
    "                                               sequence[i].spatial_units[0]))\n",
    "        ax.set_ylabel(axis_labels_from_ctype(sequence[i].coordinate_system[1],\n",
    "                                               sequence[i].spatial_units[1]))\n",
    "\n",
    "        #basic test:\n",
    "        #expect the wcs of the plot_obj to follow the sequence\n",
    "        #print(sequence[i].wcs == plot_obj.axes.wcs, sequence[0].wcs == sequence[i].wcs)\n",
    "        return plot_obj,\n",
    "\n",
    "    anim = animation.FuncAnimation(fig, update_fig, init_func=None,\n",
    "                                   frames=len(sequence), interval=60, repeat=True\n",
    "                                  )\n",
    "    plt.close(fig)\n",
    "    \n",
    "    return anim\n"
   ]
  },
  {
   "cell_type": "code",
   "execution_count": null,
   "id": "0164a222",
   "metadata": {
    "colab": {
     "base_uri": "https://localhost:8080/",
     "height": 397
    },
    "id": "steady-mixer",
    "outputId": "25bd61fa-2889-4f48-c615-6d97936b3a78"
   },
   "outputs": [],
   "source": [
    "anim = animate_sequence(sq)\n",
    "HTML(anim.to_jshtml())"
   ]
  },
  {
   "cell_type": "markdown",
   "id": "381309f4",
   "metadata": {
    "id": "noted-grace"
   },
   "source": [
    "----"
   ]
  },
  {
   "cell_type": "markdown",
   "id": "9cf08dd3",
   "metadata": {
    "id": "b8d2d840"
   },
   "source": [
    "This project was conducted during the 2018 NASA Frontier Development Lab (FDL) program, a public/private partnership between NASA and SETI and industry partners including NVIDIA Corporation, Lockheed Martin, and IBM. The authors thank IBM (especially Naeem Altaf) for generously providing computing resources on the IBM Cloud."
   ]
  }
 ],
 "metadata": {
  "colab": {
   "collapsed_sections": [],
   "name": "spaceml_sdo_dataset.ipynb",
   "provenance": []
  },
  "kernelspec": {
   "display_name": "Python 3",
   "language": "python",
   "name": "python3"
  },
  "language_info": {
   "codemirror_mode": {
    "name": "ipython",
    "version": 3
   },
   "file_extension": ".py",
   "mimetype": "text/x-python",
   "name": "python",
   "nbconvert_exporter": "python",
   "pygments_lexer": "ipython3",
   "version": "3.8.8"
  }
 },
 "nbformat": 4,
 "nbformat_minor": 5
}
