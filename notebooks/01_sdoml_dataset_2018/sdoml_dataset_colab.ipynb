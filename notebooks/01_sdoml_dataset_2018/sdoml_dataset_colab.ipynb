{
  "nbformat": 4,
  "nbformat_minor": 5,
  "metadata": {
    "colab": {
      "name": "sdoml_dataset_colab.ipynb",
      "provenance": [],
      "collapsed_sections": []
    },
    "kernelspec": {
      "display_name": "Python 3",
      "language": "python",
      "name": "python3"
    },
    "language_info": {
      "codemirror_mode": {
        "name": "ipython",
        "version": 3
      },
      "file_extension": ".py",
      "mimetype": "text/x-python",
      "name": "python",
      "nbconvert_exporter": "python",
      "pygments_lexer": "ipython3",
      "version": "3.8.8"
    }
  },
  "cells": [
    {
      "cell_type": "markdown",
      "metadata": {
        "id": "C1QdNWGH30ga"
      },
      "source": [
        "# SDO Machine Learning (SDO ML) Dataset\n",
        "\n",
        "In this notebook we demonstrate the process for interacting with a small sample of the SDO ML dataset."
      ],
      "id": "C1QdNWGH30ga"
    },
    {
      "cell_type": "markdown",
      "metadata": {
        "id": "3Dsap7YC30ge"
      },
      "source": [
        "*Meng Jin, Mark Cheung, & Paul Wright*"
      ],
      "id": "3Dsap7YC30ge"
    },
    {
      "cell_type": "markdown",
      "metadata": {
        "id": "vTNRN73m30ge"
      },
      "source": [
        "---"
      ],
      "id": "vTNRN73m30ge"
    },
    {
      "cell_type": "markdown",
      "metadata": {
        "id": "QzPKmLuL30gf"
      },
      "source": [
        "## Introduction"
      ],
      "id": "QzPKmLuL30gf"
    },
    {
      "cell_type": "markdown",
      "metadata": {
        "id": "CwkB_JVc30gf"
      },
      "source": [
        "### SDO Overview\n",
        "\n",
        "Since its launch in 2010, NASA’s Solar Dynamics Observatory (SDO; ([Pesnell et al. 2012](https://ui.adsabs.harvard.edu/abs/2012SoPh..275....3P/abstract)) has continuously monitored Sun's activity, delivering a wealth of valuable scientific data for heliophysics researchers with the use of three instruments:\n",
        "\n",
        "1. The Atmospheric Imaging Assembly (AIA; [Lemen et al. 2012](https://ui.adsabs.harvard.edu/abs/2012SoPh..275...17L/abstract)), which captures 4096 x 4096 resolution images (with 0.6 arcsecond pixel size) of the full Sun in two ultraviolet (centered at 1600, and 1700 Å), seven extreme ultraviolet (EUV; centered at 94, 131, 171, 193, 211, 304, and 335 Å), and one visible (centered at 4500 Å) wavelength band.\n",
        "\n",
        "\n",
        "2. The Helioseismic and Magnetic Imager (HMI; [Schou et al. 2012](https://ui.adsabs.harvard.edu/abs/2012SoPh..275..229S/abstract)) captures visible wavelength filtergrams of the full Sun at 4096 x 4096 resolution (a pixel size of 0.5 arcsecond), which are then processed into a number of data products, including photospheric Dopplergrams, line-of-sight magnetograms, and vector magnetograms ([Hoeksema et al. 2014](https://ui.adsabs.harvard.edu/abs/2014SoPh..289.3483H/abstract)).\n",
        "\n",
        "\n",
        "3. The EUV Variability Experiment (EVE; [Woods et al. 2012](https://ui.adsabs.harvard.edu/abs/2012SoPh..275..115W/abstract)) monitors the solar EUV spectral irradiance from 1 to 1050 Å. This is done by utilizing multiple EUV Grating Spectrographs (MEGS) that disperse EUV light from the full disk of the Sun and its corona onto a 1024 x 2048 charge coupled device (CCD)."
      ],
      "id": "CwkB_JVc30gf"
    },
    {
      "cell_type": "markdown",
      "metadata": {
        "id": "_dfn2Phj30gg"
      },
      "source": [
        "<img src=\"spacecraft_detailed.png\" width=\"400\">"
      ],
      "id": "_dfn2Phj30gg"
    },
    {
      "cell_type": "markdown",
      "metadata": {
        "id": "lrntSIJc30gh"
      },
      "source": [
        "**Figure 1:** The Solar Dynamics Observatory (SDO) spacecraft, shown with the three main instruments (AIA, EVE, and HMI) highlighted. Image courtesy of NASA (https://sdo.gsfc.nasa.gov)."
      ],
      "id": "lrntSIJc30gh"
    },
    {
      "cell_type": "markdown",
      "metadata": {
        "id": "Dhwls7SV30gh"
      },
      "source": [
        "### The SDO ML Dataset\n",
        "The SDO ML Dataset (covering 2010 - 2018) was originally published as [Galvez et al (2019)](https://ui.adsabs.harvard.edu/abs/2019ApJS..242....7G/abstract), and is hosted on the Stanford Digital Repository in Numpy's compressed array format (.npz). \n",
        "\n",
        "In this notebook, we present an update to the work outlined in Galvez et al (2019), in which the full dataset has been converted to cloud friendly Zarr format. Specifically, SDO/AIA data has been updated to account for a change in calibration after 2019. In addtion to the change in calibration, this updated format includes:\n",
        "\n",
        "1. FITS header/keyword information (such as observation time, and exposure time).\n",
        "\n",
        "2. processes for continually updating the data until the present day."
      ],
      "id": "Dhwls7SV30gh"
    },
    {
      "cell_type": "markdown",
      "metadata": {
        "id": "ueZYQ4zh30gi"
      },
      "source": [
        "### Who is the SDO ML Dataset for?\n",
        "\n",
        "The sheer volume of structured scientific data recorded by SDO (over 18 PB, and counting) is ideal for a range machine learning tasks (from time-series, to computer vision), as well as more traditional approaches.\n",
        "\n",
        "While the level 1 data are easily accessible, pre-processing these data for scientific analysis often requires  specialized heliophysics (and instrument-specific) knowledge. This may act as an unnecessary hurdle for non-heliophysics machine learning researchers who may wish to experiment with datasets from the physical sciences, but are unaware of domain-specific nuances (e.g., that images must be spatially and temporally adjusted).\n",
        "\n",
        "This notebook demonstrates the process for interacting with a subset of the curated SDO (AIA, HMI, EVE) dataset, that is mission-ready for machine-learning applications. **Our aim is to supply this standardized dataset for heliophysicists who wish to use machine learning in their own research, as well as machine-learning researchers who wish to develop models specialized for the physical sciences.**"
      ],
      "id": "ueZYQ4zh30gi"
    },
    {
      "cell_type": "markdown",
      "metadata": {
        "id": "mPr9KxH530gj"
      },
      "source": [
        "---"
      ],
      "id": "mPr9KxH530gj"
    },
    {
      "cell_type": "markdown",
      "metadata": {
        "id": "wN12n26Q30gj"
      },
      "source": [
        "## Table of Contents"
      ],
      "id": "wN12n26Q30gj"
    },
    {
      "cell_type": "markdown",
      "metadata": {
        "id": "UQqgdYtr30gk"
      },
      "source": [
        "The notebook is set out as follows:\n",
        "\n",
        "1. Setting up the notebook\n",
        "2. Reading and loading the data <br>\n",
        "2a. Selecting images based on header information <br>\n",
        "    2b. Selecting a subset of the data based on index <br>\n",
        "    2c. Downsampling the data (resolution)<br>\n",
        "    2d. Downsampling the data (temporally)<br>\n",
        "3. Generating a SunPy map\n",
        "4. Animating AIA data\n",
        "5. Reading and loading HMI data\n",
        "6. Reading and loading EVE data"
      ],
      "id": "UQqgdYtr30gk"
    },
    {
      "cell_type": "markdown",
      "metadata": {
        "id": "06e3u0qQ30gk"
      },
      "source": [
        "## 1. Setting up the notebook"
      ],
      "id": "06e3u0qQ30gk"
    },
    {
      "cell_type": "code",
      "metadata": {
        "id": "QWjqtRTCzsl9"
      },
      "source": [
        "!pip install zarr sunpy[all] gcsfs"
      ],
      "id": "QWjqtRTCzsl9",
      "execution_count": null,
      "outputs": []
    },
    {
      "cell_type": "code",
      "metadata": {
        "id": "jaFbHF6Z30gq"
      },
      "source": [
        "%matplotlib inline\n",
        "\n",
        "import gcsfs\n",
        "import zarr\n",
        "import sunpy.map\n",
        "\n",
        "import dask.array as da\n",
        "import numpy as np\n",
        "import matplotlib.pyplot as plt\n",
        "import matplotlib.cm as cm\n",
        "import pandas as pd\n",
        "import sunpy.visualization.colormaps as cm\n",
        "\n",
        "from astropy.time import Time\n",
        "from sunpy.visualization import axis_labels_from_ctype, wcsaxes_compat\n",
        "\n",
        "from matplotlib import animation\n",
        "from IPython.display import HTML"
      ],
      "id": "jaFbHF6Z30gq",
      "execution_count": null,
      "outputs": []
    },
    {
      "cell_type": "code",
      "metadata": {
        "id": "XQGn2v6_30gr"
      },
      "source": [
        "# this is currently fine for interacting with notebooks from within the project\n",
        "gcs = gcsfs.GCSFileSystem(access=\"read_only\")\n",
        "loc = \"fdl-sdoml-v2/sdomlv2_small.zarr/\"\n",
        "store = gcsfs.GCSMap(loc, gcs=gcs, check=False)"
      ],
      "id": "XQGn2v6_30gr",
      "execution_count": null,
      "outputs": []
    },
    {
      "cell_type": "markdown",
      "metadata": {
        "id": "pHCnRpFi30gr"
      },
      "source": [
        "## 2. Reading and loading the AIA data\n"
      ],
      "id": "pHCnRpFi30gr"
    },
    {
      "cell_type": "markdown",
      "metadata": {
        "id": "u8yLRK4x30gr"
      },
      "source": [
        "The SDO ML dataset is stored in the Zarr format, a format for the storage of chunked, compressed, N-dimensional arrays with Numpy dtype. For an in-depth overview, see https://zarr.readthedocs.io/en/stable/tutorial.html."
      ],
      "id": "u8yLRK4x30gr"
    },
    {
      "cell_type": "code",
      "metadata": {
        "id": "IaWjptjK30gr"
      },
      "source": [
        "# first, we create a group with the store data located on GCP.\n",
        "root = zarr.group(store)"
      ],
      "id": "IaWjptjK30gr",
      "execution_count": null,
      "outputs": []
    },
    {
      "cell_type": "code",
      "metadata": {
        "id": "L5sUBFP-30gs"
      },
      "source": [
        "# Using `root.tree()`, we are able to display the hierarchy (of `loc`).\n",
        "print(root.tree())"
      ],
      "id": "L5sUBFP-30gs",
      "execution_count": null,
      "outputs": []
    },
    {
      "cell_type": "markdown",
      "metadata": {
        "id": "4rkpT-1q30gs"
      },
      "source": [
        "As shown in the tree, the heirachy consists of groups, each shown with their respective shape, and data type. In this example, we will primarily look at the 171 Å channel from 2010. This consists of 6135 512x512 images, stored as float32, and can be accessed as follows:"
      ],
      "id": "4rkpT-1q30gs"
    },
    {
      "cell_type": "code",
      "metadata": {
        "id": "AEKhkUv330gt"
      },
      "source": [
        "data = root[\"2010\"][\"171A\"]"
      ],
      "id": "AEKhkUv330gt",
      "execution_count": null,
      "outputs": []
    },
    {
      "cell_type": "markdown",
      "metadata": {
        "id": "CP-3yVdt30gt"
      },
      "source": [
        "We could have alternatively accessed the 2010 data as:\n",
        "\n",
        "```\n",
        "loc = 'fdl-sdoml-v2/sdomlv2_small.zarr/2010'\n",
        "```\n",
        "\n",
        "which becomes increasingly useful in the full dataset (where the heirachy contains years 2010 - present)."
      ],
      "id": "CP-3yVdt30gt"
    },
    {
      "cell_type": "markdown",
      "metadata": {
        "id": "GOq4PfFF30gt"
      },
      "source": [
        "**Loading with Dask**\n",
        "\n",
        "We can then load this data into an array using dask."
      ],
      "id": "GOq4PfFF30gt"
    },
    {
      "cell_type": "code",
      "metadata": {
        "id": "uw-tZXju30gt"
      },
      "source": [
        "all_image = da.from_array(data)\n",
        "all_image"
      ],
      "id": "uw-tZXju30gt",
      "execution_count": null,
      "outputs": []
    },
    {
      "cell_type": "markdown",
      "metadata": {
        "id": "39fny1di30gt"
      },
      "source": [
        "As shown above, the data has the shape (6135, 512, 512), and is split into 52 chunks of (120, 512, 512), each of 125.83 MB; this is further visualised on the right. The data is now in a form to be manipulated like a Numpy array.\n",
        "\n",
        "We can load and display one image now:"
      ],
      "id": "39fny1di30gt"
    },
    {
      "cell_type": "code",
      "metadata": {
        "id": "67co7JRT30gu"
      },
      "source": [
        "image=all_image[6000,:,:]\n",
        "plt.figure(figsize=(10,10))\n",
        "colormap = plt.get_cmap('sdoaia171')\n",
        "plt.imshow(image,origin='lower',vmin=10,vmax=1000,cmap=colormap)"
      ],
      "id": "67co7JRT30gu",
      "execution_count": null,
      "outputs": []
    },
    {
      "cell_type": "markdown",
      "metadata": {
        "id": "nfMrsRiQ30gu"
      },
      "source": [
        "Depending on the use-case, we may wish to extract a subset of this data in various ways. In the following sections we step through a number of potential operations that we may wish to make with the data."
      ],
      "id": "nfMrsRiQ30gu"
    },
    {
      "cell_type": "markdown",
      "metadata": {
        "id": "9NCHr5-930gu"
      },
      "source": [
        "### 2a. Selecting images based on header information"
      ],
      "id": "9NCHr5-930gu"
    },
    {
      "cell_type": "markdown",
      "metadata": {
        "id": "gLRnFQv930gu"
      },
      "source": [
        "The new data includes all fits header information with the same keywords. To find out the AIA keyword definition, one can refer to the following online document: \n",
        "http://jsoc.stanford.edu/~jsoc/keywords/AIA/AIA02840_K_AIA-SDO_FITS_Keyword_Document.pdf \n",
        "\n",
        "And one can list all the AIA keywords included:"
      ],
      "id": "gLRnFQv930gu"
    },
    {
      "cell_type": "code",
      "metadata": {
        "id": "Mi9WkhZr30gu"
      },
      "source": [
        "sorted(data.attrs)"
      ],
      "id": "Mi9WkhZr30gu",
      "execution_count": null,
      "outputs": []
    },
    {
      "cell_type": "markdown",
      "metadata": {
        "id": "pCxxPVNz30gu"
      },
      "source": [
        "We can extract the exposure (and observation) time from the data attributes (the header information), and downsample our data based upon that information."
      ],
      "id": "pCxxPVNz30gu"
    },
    {
      "cell_type": "code",
      "metadata": {
        "id": "4bgxwZZv30gu"
      },
      "source": [
        "exptime = np.array(data.attrs[\"EXPTIME\"])\n",
        "t_obs = np.array(data.attrs[\"T_OBS\"])"
      ],
      "id": "4bgxwZZv30gu",
      "execution_count": null,
      "outputs": []
    },
    {
      "cell_type": "code",
      "metadata": {
        "id": "UK7mewfd30gv"
      },
      "source": [
        "plt.plot(exptime)"
      ],
      "id": "UK7mewfd30gv",
      "execution_count": null,
      "outputs": []
    },
    {
      "cell_type": "code",
      "metadata": {
        "id": "GCgkSO8j30gv"
      },
      "source": [
        "# select indices where the exposure time is less than 2 seconds\n",
        "index = np.where(exptime < 2.0)\n",
        "selected_images = da.from_array(data)[index[0], :, :]"
      ],
      "id": "GCgkSO8j30gv",
      "execution_count": null,
      "outputs": []
    },
    {
      "cell_type": "code",
      "metadata": {
        "id": "1f5JmUaN30gv"
      },
      "source": [
        "selected_images"
      ],
      "id": "1f5JmUaN30gv",
      "execution_count": null,
      "outputs": []
    },
    {
      "cell_type": "markdown",
      "metadata": {
        "id": "p8nxNvye30gv"
      },
      "source": [
        "### 2b. Selecting images based on indices"
      ],
      "id": "p8nxNvye30gv"
    },
    {
      "cell_type": "markdown",
      "metadata": {
        "id": "Xf5x4ocU30gv"
      },
      "source": [
        "While the data is not currently ordered by observation time, we can simple index the array to extract a number of observations"
      ],
      "id": "Xf5x4ocU30gv"
    },
    {
      "cell_type": "code",
      "metadata": {
        "id": "aG9u9fol30gv"
      },
      "source": [
        "# select a subset of the data based on index\n",
        "selected_images = da.from_array(data)[100:200, :, :]\n",
        "selected_header = {keys: values[100:200] for keys, values in data.attrs.items()}\n",
        "\n",
        "# and even compute the mean of the selected images\n",
        "print(f\"mean of selected images: {da.mean(selected_images).compute():.2f}\")"
      ],
      "id": "aG9u9fol30gv",
      "execution_count": null,
      "outputs": []
    },
    {
      "cell_type": "code",
      "metadata": {
        "id": "6VePACQK30gw"
      },
      "source": [
        "selected_images"
      ],
      "id": "6VePACQK30gw",
      "execution_count": null,
      "outputs": []
    },
    {
      "cell_type": "markdown",
      "metadata": {
        "id": "_dSPjfYe30gw"
      },
      "source": [
        "### 2c. Downsampling the data (resolution)"
      ],
      "id": "_dSPjfYe30gw"
    },
    {
      "cell_type": "markdown",
      "metadata": {
        "id": "LlYoMytG30gw"
      },
      "source": [
        "Downsample the 512x512 images to 256x256"
      ],
      "id": "LlYoMytG30gw"
    },
    {
      "cell_type": "code",
      "metadata": {
        "id": "9JUtmwTn30gw"
      },
      "source": [
        "# downsample the data to 256 by sampling every other pixel\n",
        "sub_index = np.arange(0, 512, 2)\n",
        "\n",
        "sub_image = da.from_array(data)[0:600, sub_index, :]\n",
        "sub_image = sub_image[:, :, sub_index]\n",
        "# is this becuase dask doesn't support nd fancy indexing?\n",
        "\n",
        "print(f\"mean of selected images: {da.mean(sub_image).compute():.2f}\")"
      ],
      "id": "9JUtmwTn30gw",
      "execution_count": null,
      "outputs": []
    },
    {
      "cell_type": "code",
      "metadata": {
        "id": "32hRZOKH30gw"
      },
      "source": [
        "sub_image"
      ],
      "id": "32hRZOKH30gw",
      "execution_count": null,
      "outputs": []
    },
    {
      "cell_type": "markdown",
      "metadata": {
        "id": "6oLPymD_30gw"
      },
      "source": [
        "### 2d. Downsampling the data (temporally)"
      ],
      "id": "6oLPymD_30gw"
    },
    {
      "cell_type": "markdown",
      "metadata": {
        "id": "Rt7HPIPV30gx"
      },
      "source": [
        "We can use pandas to downstample the data within a time-range. Here, we choose 1 day of observations at 12 minute frequency"
      ],
      "id": "Rt7HPIPV30gx"
    },
    {
      "cell_type": "code",
      "metadata": {
        "id": "KrNjtNOx30gx"
      },
      "source": [
        "df_time = pd.DataFrame(t_obs, index=np.arange(np.shape(t_obs)[0]), columns=[\"Time\"])\n",
        "df_time[\"Time\"] = pd.to_datetime(df_time[\"Time\"])\n",
        "\n",
        "# select times at a frequency of 12 minutes\n",
        "selected_times = pd.date_range(\n",
        "    start=\"2010-08-28 00:00:00\", end=\"2010-08-28 23:59:59\", freq=\"12T\", tz=\"UTC\"\n",
        ")"
      ],
      "id": "KrNjtNOx30gx",
      "execution_count": null,
      "outputs": []
    },
    {
      "cell_type": "code",
      "metadata": {
        "id": "szM-eUrk30gx"
      },
      "source": [
        "selected_index = []\n",
        "for i in selected_times:\n",
        "    selected_index.append(np.argmin(abs(df_time[\"Time\"] - i)))\n",
        "# may be a more efficient way of doing this\n",
        "time_index = list(filter(lambda x: x > 0, selected_index))\n",
        "da.from_array(data)[time_index, :, :]"
      ],
      "id": "szM-eUrk30gx",
      "execution_count": null,
      "outputs": []
    },
    {
      "cell_type": "markdown",
      "metadata": {
        "id": "I-DT3Hrj30gx"
      },
      "source": [
        "## 3. Generating a SunPy Map"
      ],
      "id": "I-DT3Hrj30gx"
    },
    {
      "cell_type": "markdown",
      "metadata": {
        "id": "qmh6Io_730gx"
      },
      "source": [
        "SunPy is an open-source Python library for Solar Physics data analysis and visualization. \n",
        "\n",
        "In this section we will demonstrate how SunPy’s [Map](https://docs.sunpy.org/en/stable/api/sunpy.map.Map.html#sunpy.map.Map) with the Zarr-formatted data. We demonstrate this for a single index."
      ],
      "id": "qmh6Io_730gx"
    },
    {
      "cell_type": "code",
      "metadata": {
        "id": "CLSbUjXC30gx"
      },
      "source": [
        "# specify an image index\n",
        "img_index = time_index[-1]"
      ],
      "id": "CLSbUjXC30gx",
      "execution_count": null,
      "outputs": []
    },
    {
      "cell_type": "code",
      "metadata": {
        "id": "Gaj_LVsW30gx"
      },
      "source": [
        "# select the respective image, and header required for sunpy.map.Map()\n",
        "selected_image = da.from_array(data)[img_index, :, :]\n",
        "selected_headr = {keys: values[img_index] for keys, values in data.attrs.items()}"
      ],
      "id": "Gaj_LVsW30gx",
      "execution_count": null,
      "outputs": []
    },
    {
      "cell_type": "code",
      "metadata": {
        "id": "X28jmtbg30gx"
      },
      "source": [
        "my_map = sunpy.map.Map((np.array(selected_image), selected_headr))"
      ],
      "id": "X28jmtbg30gx",
      "execution_count": null,
      "outputs": []
    },
    {
      "cell_type": "code",
      "metadata": {
        "id": "YWpfJrQr30gy"
      },
      "source": [
        "plt.figure(figsize=(7, 7))\n",
        "ax = plt.subplot(projection=my_map)\n",
        "my_map.plot()"
      ],
      "id": "YWpfJrQr30gy",
      "execution_count": null,
      "outputs": []
    },
    {
      "cell_type": "markdown",
      "metadata": {
        "id": "Mtc9Z9kz30gy"
      },
      "source": [
        "As this is then a SunPy Map object, we can manipulate it as such."
      ],
      "id": "Mtc9Z9kz30gy"
    },
    {
      "cell_type": "code",
      "metadata": {
        "id": "3qw7pUhL30gy"
      },
      "source": [
        "my_map"
      ],
      "id": "3qw7pUhL30gy",
      "execution_count": null,
      "outputs": []
    },
    {
      "cell_type": "markdown",
      "metadata": {
        "id": "ygreYJqx30gy"
      },
      "source": [
        "For more information about SunPy, and Map, see the SunPy project: https://readthedocs.org/projects/sunpy/"
      ],
      "id": "ygreYJqx30gy"
    },
    {
      "cell_type": "markdown",
      "metadata": {
        "id": "dvlyGtJH30gy"
      },
      "source": [
        "## 4. Generating an AIA animation"
      ],
      "id": "dvlyGtJH30gy"
    },
    {
      "cell_type": "code",
      "metadata": {
        "id": "BzDlpSNm30gy"
      },
      "source": [
        "maps = []\n",
        "\n",
        "for i in time_index:\n",
        "    selected_image = da.from_array(data)[i, :, :]\n",
        "    selected_headr = {keys: values[i] for keys, values in data.attrs.items()}\n",
        "    maps.append(sunpy.map.Map((np.array(selected_image), selected_headr)))\n",
        "\n",
        "sq = sunpy.map.Map(maps, sequence=True, sortby=\"date\")"
      ],
      "id": "BzDlpSNm30gy",
      "execution_count": null,
      "outputs": []
    },
    {
      "cell_type": "code",
      "metadata": {
        "id": "Rfo9od9W30gz"
      },
      "source": [
        "def animate_sequence(sequence, vmin = None, vmax = None):\n",
        "    \"\"\"\n",
        "    An animation plotting routine to animate each element in MapSequence\n",
        "\n",
        "    Parameters\n",
        "    ----------\n",
        "    sequence : `sunpy.map.mapsequence.MapSequence`\n",
        "        a set of sunpy maps to animate\n",
        "\n",
        "    Returns\n",
        "    -------\n",
        "    `matplotlib.animation.FuncAnimation`\n",
        "        A FuncAnimation instance.\n",
        "    \"\"\"\n",
        "\n",
        "    # fig, ax = plt.subplots(figsize=(7,7),\n",
        "    #                       subplot_kw=dict(projection=sequence[0].wcs)\n",
        "    #                      )\n",
        "\n",
        "    ax = wcsaxes_compat.gca_wcs(sequence[0].wcs)\n",
        "    fig = ax.get_figure()\n",
        "    fig.figsize = (7, 7)\n",
        "\n",
        "    plot_obj = sequence[0].plot(vmin = vmin, vmax = vmax)\n",
        "    ax.set_title(sequence[0].latex_name)\n",
        "\n",
        "    cbar = plt.colorbar()\n",
        "\n",
        "    def update_fig(i):\n",
        "        ax.set_title(sequence[i].latex_name)\n",
        "\n",
        "        # set the data to that of the image being plot\n",
        "        # Each image should be scaled as the first.\n",
        "        plot_obj.set_data(sequence[i].data)\n",
        "\n",
        "        # reset the WCS to that of the image being plot\n",
        "        plot_obj.axes.reset_wcs(sequence[i].wcs)\n",
        "\n",
        "        wcsaxes_compat.default_wcs_grid(ax)\n",
        "        ax.set_xlabel(\n",
        "            axis_labels_from_ctype(\n",
        "                sequence[i].coordinate_system[0], sequence[i].spatial_units[0]\n",
        "            )\n",
        "        )\n",
        "        ax.set_ylabel(\n",
        "            axis_labels_from_ctype(\n",
        "                sequence[i].coordinate_system[1], sequence[i].spatial_units[1]\n",
        "            )\n",
        "        )\n",
        "\n",
        "        # basic test:\n",
        "        # expect the wcs of the plot_obj to follow the sequence\n",
        "        # print(sequence[i].wcs == plot_obj.axes.wcs, sequence[0].wcs == sequence[i].wcs)\n",
        "        return (plot_obj,)\n",
        "\n",
        "    anim = animation.FuncAnimation(\n",
        "        fig, update_fig, init_func=None, frames=len(sequence), interval=60, repeat=True\n",
        "    )\n",
        "    plt.close(fig)\n",
        "\n",
        "    return anim"
      ],
      "id": "Rfo9od9W30gz",
      "execution_count": null,
      "outputs": []
    },
    {
      "cell_type": "code",
      "metadata": {
        "id": "dKTP__Uh30gz"
      },
      "source": [
        "anim = animate_sequence(sq)\n",
        "HTML(anim.to_jshtml())"
      ],
      "id": "dKTP__Uh30gz",
      "execution_count": null,
      "outputs": []
    },
    {
      "cell_type": "markdown",
      "metadata": {
        "id": "DV2bujqc30gz"
      },
      "source": [
        "## 5. Reading and loading HMI data"
      ],
      "id": "DV2bujqc30gz"
    },
    {
      "cell_type": "markdown",
      "metadata": {
        "id": "-e7JJPQT30gz"
      },
      "source": [
        "Now, we demonstrste how to read the HMI data within the SDOML dataset. In general, the HMI data structure is very similar to the AIA data. Instead of 9 AIA channels, for each time step, HMI has 3 channels that represent the 3 component of the vector magnetic field (i.e., Bx, By, and Bz). Using the same method described in section 2, we can load the HMI data in 2010:"
      ],
      "id": "-e7JJPQT30gz"
    },
    {
      "cell_type": "code",
      "metadata": {
        "id": "Os-PH8IY30gz"
      },
      "source": [
        "loc_hmi = \"fdl-sdoml-v2/sdomlv2_hmi.zarr/2010\"\n",
        "store = gcsfs.GCSMap(loc_hmi, gcs=gcs, check=False)\n",
        "root = zarr.group(store)\n",
        "print(root.tree())"
      ],
      "id": "Os-PH8IY30gz",
      "execution_count": null,
      "outputs": []
    },
    {
      "cell_type": "markdown",
      "metadata": {
        "id": "lO_D6eA830gz"
      },
      "source": [
        "Same as AIA data, the new HMI data also includes all fits header information with the same keywords. To find out the HMI keyword definition, one can refer to the following online document:\n",
        "http://jsoc.stanford.edu/doc/keywords/JSOC_Keywords_for_metadata.pdf\n",
        "\n",
        "And one can list all the HMI keywords included:"
      ],
      "id": "lO_D6eA830gz"
    },
    {
      "cell_type": "code",
      "metadata": {
        "id": "Ojs8qyJ_30gz"
      },
      "source": [
        "data = root[\"Bz\"]\n",
        "sorted(data.attrs)"
      ],
      "id": "Ojs8qyJ_30gz",
      "execution_count": null,
      "outputs": []
    },
    {
      "cell_type": "markdown",
      "metadata": {
        "id": "54ezje7u30g0"
      },
      "source": [
        "Note that the HMI keywords are slightly different comparing with AIA keywords. For example, there is no exposure time ('EXPTIME') in the HMI metadata. Also, the 'T_OBS' format is a bit different:"
      ],
      "id": "54ezje7u30g0"
    },
    {
      "cell_type": "code",
      "metadata": {
        "id": "mv0LbDVD30g0"
      },
      "source": [
        "t_obs = np.array(data.attrs[\"T_OBS\"])\n",
        "t_obs"
      ],
      "id": "mv0LbDVD30g0",
      "execution_count": null,
      "outputs": []
    },
    {
      "cell_type": "markdown",
      "metadata": {
        "id": "s6CiVmSI30g0"
      },
      "source": [
        "To keep it consistent with the AIA metadata, one can simply convert the time format:"
      ],
      "id": "s6CiVmSI30g0"
    },
    {
      "cell_type": "code",
      "metadata": {
        "id": "k83WyMlq30g0"
      },
      "source": [
        "t_obs_new = []\n",
        "for string in t_obs:\n",
        "    new_string = string.replace('_TAI', 'Z')\n",
        "    new_string = new_string.replace('_','T')\n",
        "    new_string = new_string.replace('.','-')\n",
        "    new_string = new_string.replace('Z', '.00')\n",
        "    t_obs_new.append(new_string)\n",
        "t = Time(t_obs_new, format='isot', scale='tai')\n",
        "t_obs_new=t.value"
      ],
      "id": "k83WyMlq30g0",
      "execution_count": null,
      "outputs": []
    },
    {
      "cell_type": "markdown",
      "metadata": {
        "id": "w4laL4fr30g0"
      },
      "source": [
        "Now we can load a magnetic map using Sunpy Map:"
      ],
      "id": "w4laL4fr30g0"
    },
    {
      "cell_type": "code",
      "metadata": {
        "id": "-TwHnObs5JQG"
      },
      "source": [
        "da.from_array(data)[0, :, :]"
      ],
      "id": "-TwHnObs5JQG",
      "execution_count": null,
      "outputs": []
    },
    {
      "cell_type": "code",
      "metadata": {
        "id": "5pYhCnCf5gsZ"
      },
      "source": [
        "selected_headr"
      ],
      "id": "5pYhCnCf5gsZ",
      "execution_count": null,
      "outputs": []
    },
    {
      "cell_type": "code",
      "metadata": {
        "id": "HdWQLzRa30g0"
      },
      "source": [
        "selected_image = da.from_array(data)[0, :, :]\n",
        "selected_headr = {keys: values[0] for keys, values in data.attrs.items()}\n",
        "selected_headr['WAVEUNIT'] = 'angstrom'\n",
        "my_map = sunpy.map.Map((np.array(selected_image), selected_headr))\n",
        "my_map"
      ],
      "id": "HdWQLzRa30g0",
      "execution_count": null,
      "outputs": []
    },
    {
      "cell_type": "markdown",
      "metadata": {
        "id": "zwbmz9QV30g0"
      },
      "source": [
        "We can load a movie of HMI Bz component in the same time range as shown for AIA in the previous section:"
      ],
      "id": "zwbmz9QV30g0"
    },
    {
      "cell_type": "code",
      "metadata": {
        "id": "pOENhFnD30g0"
      },
      "source": [
        "df_time = pd.DataFrame(t_obs_new, index=np.arange(np.shape(t_obs_new)[0]), columns=[\"Time\"])\n",
        "df_time[\"Time\"] = pd.to_datetime(df_time[\"Time\"])\n",
        "\n",
        "# select times at a frequency of 12 minutes\n",
        "selected_times = pd.date_range(\n",
        "    start=\"2010-08-28 00:00:00\", end=\"2010-08-28 23:59:59\", freq=\"12T\")\n",
        "\n",
        "selected_index = []\n",
        "for i in selected_times:\n",
        "    selected_index.append(np.argmin(abs(df_time[\"Time\"] - i)))\n",
        "\n",
        "#mark the missing timestamps in the data\n",
        "missing_index=np.where(abs(df_time['Time'][selected_index]-selected_times)>pd.Timedelta('3m'))[0].tolist()\n",
        "for i in missing_index:\n",
        "    selected_index[i]=-1\n",
        "        \n",
        "# may be a more efficient way of doing this\n",
        "time_index = list(filter(lambda x: x > 0, selected_index))\n",
        "da.from_array(data)[time_index, :, :]"
      ],
      "id": "pOENhFnD30g0",
      "execution_count": null,
      "outputs": []
    },
    {
      "cell_type": "code",
      "metadata": {
        "id": "WbQwF3BE30g1"
      },
      "source": [
        "maps = []\n",
        "\n",
        "for i in time_index:\n",
        "    selected_image = da.from_array(data)[i, :, :]\n",
        "    selected_headr = {keys: values[i] for keys, values in data.attrs.items()}\n",
        "    selected_headr['WAVEUNIT'] = 'angstrom'\n",
        "    maps.append(sunpy.map.Map((np.array(selected_image), selected_headr)))\n",
        "\n",
        "sq = sunpy.map.Map(maps, sequence=True, sortby=\"date\")"
      ],
      "id": "WbQwF3BE30g1",
      "execution_count": null,
      "outputs": []
    },
    {
      "cell_type": "code",
      "metadata": {
        "id": "WO2RwJ6v30g1",
        "scrolled": true
      },
      "source": [
        "# The plot range can be specified by vmin and vmax\n",
        "anim = animate_sequence(sq, vmin=-20, vmax=20)\n",
        "HTML(anim.to_jshtml())"
      ],
      "id": "WO2RwJ6v30g1",
      "execution_count": null,
      "outputs": []
    },
    {
      "cell_type": "markdown",
      "metadata": {
        "id": "8sdL0W7q30g1"
      },
      "source": [
        "## 6. Reading and loading EVE data"
      ],
      "id": "8sdL0W7q30g1"
    },
    {
      "cell_type": "markdown",
      "metadata": {
        "id": "0iL1hhfL30g1"
      },
      "source": [
        "The EVE data is timeseries data in 39 wavelengths from 2010 May 1 to 2014 May 26. The temporal resolution is 1 minute. In this section, we demonstrate how to read and load EVE data."
      ],
      "id": "0iL1hhfL30g1"
    },
    {
      "cell_type": "code",
      "metadata": {
        "id": "DVxBAlBN30g1"
      },
      "source": [
        "loc_eve = \"fdl-sdoml-v2/sdomlv2_eve.zarr\"\n",
        "store = gcsfs.GCSMap(loc_eve, gcs=gcs, check=False)\n",
        "root = zarr.group(store)\n",
        "print(root.tree())"
      ],
      "id": "DVxBAlBN30g1",
      "execution_count": null,
      "outputs": []
    },
    {
      "cell_type": "markdown",
      "metadata": {
        "id": "hfzyKr4S30g1"
      },
      "source": [
        "As shown in the data structure tree, the ion line names can be identified. For some ions, there are multiple emission lines and the spectral line names end with '_1', '_2' to distinguish them. The details (e.g., ion, wavelength, emission temperature) are included in the metadata, which can be checked similar as AIA and HMI data:"
      ],
      "id": "hfzyKr4S30g1"
    },
    {
      "cell_type": "code",
      "metadata": {
        "id": "xPuHTq0I30g1"
      },
      "source": [
        "data = root[\"MEGS-A\"][\"Fe XX\"]\n",
        "sorted(data.attrs)"
      ],
      "id": "xPuHTq0I30g1",
      "execution_count": null,
      "outputs": []
    },
    {
      "cell_type": "code",
      "metadata": {
        "id": "wmvhmxpS30g1"
      },
      "source": [
        "data.attrs['ion'],data.attrs['wavelength'], data.attrs['logT']"
      ],
      "id": "wmvhmxpS30g1",
      "execution_count": null,
      "outputs": []
    },
    {
      "cell_type": "markdown",
      "metadata": {
        "id": "_nOklhER30g2"
      },
      "source": [
        "In addition, the 'Time' variable contains all timestamps of the data:"
      ],
      "id": "_nOklhER30g2"
    },
    {
      "cell_type": "code",
      "metadata": {
        "id": "Y-UxiMwZ30g2"
      },
      "source": [
        "time = root['MEGS-A']['Time']\n",
        "time[0:10]"
      ],
      "id": "Y-UxiMwZ30g2",
      "execution_count": null,
      "outputs": []
    },
    {
      "cell_type": "markdown",
      "metadata": {
        "id": "kwmVnHVI30g2"
      },
      "source": [
        "We can plot the spectral line timeseries data:"
      ],
      "id": "kwmVnHVI30g2"
    },
    {
      "cell_type": "code",
      "metadata": {
        "id": "u8sdGoA030g2"
      },
      "source": [
        "df = pd.Series(data,index=pd.to_datetime(time))\n",
        "ax = df.plot(ylim=(0,2.e-4),figsize=(20,10),fontsize=20)\n",
        "ax.set_title(str(data.attrs['ion'])+' '+str(data.attrs['wavelength'])+' LogT = '+str(data.attrs['logT']),fontsize=20)\n",
        "ax.set_xlabel(\"Time\",fontsize=20)\n",
        "ax.set_ylabel(\"Intensity [W/m^2]\",fontsize=20)"
      ],
      "id": "u8sdGoA030g2",
      "execution_count": null,
      "outputs": []
    },
    {
      "cell_type": "markdown",
      "metadata": {
        "id": "HBSb6FFH30g2"
      },
      "source": [
        "----"
      ],
      "id": "HBSb6FFH30g2"
    },
    {
      "cell_type": "markdown",
      "metadata": {
        "id": "fMk-BmkT30g2"
      },
      "source": [
        "This project was conducted during the 2018 NASA Frontier Development Lab (FDL) program, a public/private partnership between NASA and SETI and industry partners including NVIDIA Corporation, Lockheed Martin, and IBM. The authors thank IBM (especially Naeem Altaf) for generously providing computing resources on the IBM Cloud."
      ],
      "id": "fMk-BmkT30g2"
    }
  ]
}